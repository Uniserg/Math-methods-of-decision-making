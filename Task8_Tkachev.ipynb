{
 "cells": [
  {
   "cell_type": "code",
   "execution_count": 73,
   "outputs": [],
   "source": [
    "import numpy as np\n",
    "from pulp import LpProblem, LpVariable, LpMaximize"
   ],
   "metadata": {
    "collapsed": false,
    "pycharm": {
     "name": "#%%\n"
    }
   }
  },
  {
   "cell_type": "code",
   "execution_count": 74,
   "outputs": [
    {
     "data": {
      "text/plain": "Game:\nMAXIMIZE\n1*w1 + 1*w2 + 1*w3 + 0\nSUBJECT TO\n_C1: w1 + 2 w2 + 3 w3 <= 1\n\n_C2: 5 w1 + 3 w2 + 4 w3 <= 1\n\n_C3: w1 + 4 w2 <= 1\n\nVARIABLES\nw1 Continuous\nw2 Continuous\nw3 Continuous"
     },
     "execution_count": 74,
     "metadata": {},
     "output_type": "execute_result"
    }
   ],
   "source": [
    "model = LpProblem(\"Game\", LpMaximize)\n",
    "\n",
    "M = np.array([\n",
    "    [1, 2, 3],\n",
    "    [5, 3, 4],\n",
    "    [1, 4, 0]\n",
    "])\n",
    "\n",
    "w1 = LpVariable('w1', lowBound=0)\n",
    "w2 = LpVariable('w2', lowBound=0)\n",
    "w3 = LpVariable('w3', lowBound=0)\n",
    "\n",
    "W = np.array([w1, w2, w3])\n",
    "\n",
    "le = np.vectorize(lambda x, y: x <= y)\n",
    "F = (W).sum()\n",
    "C = le((W * M).sum(axis=1), 1)\n",
    "\n",
    "model += F\n",
    "for constraint in C:\n",
    "    model += constraint\n",
    "\n",
    "model"
   ],
   "metadata": {
    "collapsed": false,
    "pycharm": {
     "name": "#%%\n"
    }
   }
  },
  {
   "cell_type": "code",
   "execution_count": 75,
   "outputs": [
    {
     "data": {
      "text/plain": "1"
     },
     "execution_count": 75,
     "metadata": {},
     "output_type": "execute_result"
    }
   ],
   "source": [
    "model.solve()"
   ],
   "metadata": {
    "collapsed": false,
    "pycharm": {
     "name": "#%%\n"
    }
   }
  },
  {
   "cell_type": "code",
   "execution_count": 76,
   "outputs": [
    {
     "data": {
      "text/plain": "array([0. , 0.8, 0.2])"
     },
     "execution_count": 76,
     "metadata": {},
     "output_type": "execute_result"
    }
   ],
   "source": [
    "opt = np.array(list(map(lambda x: x.value(), model.variables())))\n",
    "v = 1 / opt.sum()\n",
    "opt = opt / opt.sum()\n",
    "opt"
   ],
   "metadata": {
    "collapsed": false,
    "pycharm": {
     "name": "#%%\n"
    }
   }
  },
  {
   "cell_type": "code",
   "execution_count": 77,
   "outputs": [
    {
     "data": {
      "text/plain": "3.2"
     },
     "execution_count": 77,
     "metadata": {},
     "output_type": "execute_result"
    }
   ],
   "source": [
    "v"
   ],
   "metadata": {
    "collapsed": false,
    "pycharm": {
     "name": "#%%\n"
    }
   }
  },
  {
   "cell_type": "code",
   "execution_count": 82,
   "outputs": [
    {
     "name": "stdout",
     "output_type": "stream",
     "text": [
      "Ответ. \n",
      "X∗ = [0.  0.8 0.2] – оптимальная стратегия I игрока, \n",
      "Y∗ = [0.  0.8 0.2] – оптимальная стратегия II игрока,\n",
      "νA = 3.2 – цена игры.\n"
     ]
    }
   ],
   "source": [
    "print(f'Ответ. \\nX∗ = {opt} – оптимальная стратегия I игрока, \\n'\n",
    "      f'Y∗ = {opt} – оптимальная стратегия II игрока,\\n'\n",
    "      f'νA = {v} – цена игры.')"
   ],
   "metadata": {
    "collapsed": false,
    "pycharm": {
     "name": "#%%\n"
    }
   }
  }
 ],
 "metadata": {
  "kernelspec": {
   "display_name": "Python 3",
   "language": "python",
   "name": "python3"
  },
  "language_info": {
   "codemirror_mode": {
    "name": "ipython",
    "version": 2
   },
   "file_extension": ".py",
   "mimetype": "text/x-python",
   "name": "python",
   "nbconvert_exporter": "python",
   "pygments_lexer": "ipython2",
   "version": "2.7.6"
  }
 },
 "nbformat": 4,
 "nbformat_minor": 0
}