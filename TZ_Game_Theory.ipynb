{
 "cells": [
  {
   "cell_type": "code",
   "execution_count": 1,
   "outputs": [],
   "source": [
    "import numpy as np\n",
    "from pulp import LpProblem, LpMinimize, LpVariable, LpMaximize\n",
    "import pandas as pd\n",
    "import matplotlib.pyplot as plt"
   ],
   "metadata": {
    "collapsed": false,
    "pycharm": {
     "name": "#%%\n"
    }
   }
  },
  {
   "cell_type": "code",
   "execution_count": 2,
   "outputs": [],
   "source": [
    "ge = np.vectorize(lambda x, y: x >= y)\n",
    "le = np.vectorize(lambda x, y: x <= y)\n",
    "\n",
    "# Решение симплекс-методом\n",
    "def get_mixed_strategy(M, F_type, C_type_f):\n",
    "    model = LpProblem(\"Game\", F_type)\n",
    "    W = []\n",
    "\n",
    "    for i in range(M.shape[0]):\n",
    "        w = LpVariable(f'w{i+1}', lowBound=0)\n",
    "        W.append(w)\n",
    "\n",
    "    W = np.array(W)\n",
    "\n",
    "    F = (W).sum()\n",
    "    C = C_type_f((M * W).sum(axis=1), 1)\n",
    "\n",
    "    model += F\n",
    "    for constraint in C:\n",
    "        model += constraint\n",
    "\n",
    "    model.solve()\n",
    "\n",
    "    opt = np.array(list(map(lambda x: x.value(), model.variables())))\n",
    "\n",
    "    v = 1 / opt.sum()\n",
    "    opt = opt / opt.sum()\n",
    "    return opt, v"
   ],
   "metadata": {
    "collapsed": false,
    "pycharm": {
     "name": "#%%\n"
    }
   }
  },
  {
   "cell_type": "markdown",
   "source": [
    "#### 1. Решение задачи о нахождении выигрышной стратегии для антагонистической игры"
   ],
   "metadata": {
    "collapsed": false,
    "pycharm": {
     "name": "#%% md\n"
    }
   }
  },
  {
   "cell_type": "code",
   "execution_count": 3,
   "outputs": [],
   "source": [
    "def solve_matrix_game(strategies_A, strategies_B, M):\n",
    "    worst_response_scenarios_A = M.min(axis=1)\n",
    "    worst_response_scenarios_B = M.max(axis=0)\n",
    "    opt_strategy_A = worst_response_scenarios_A.argmax() # alpha - нижняя цена игры (максимин) - Это максимальный выигрыш игрока A\n",
    "    opt_strategy_B = worst_response_scenarios_B.argmin() # beta - верхняя цена игры (минимакс) - Это максимальный проигрыш игрока В\n",
    "\n",
    "    opt, v = get_mixed_strategy(M, LpMaximize, le)\n",
    "\n",
    "    res = f'a) Оптимальная чистая стратегия для игрока А: №{opt_strategy_A + 1} - {strategies_A[opt_strategy_A]}\\n' \\\n",
    "      f'б) Цена игры для игрока А при выборе чистой оптимальной стратегии:  {worst_response_scenarios_A[opt_strategy_A]}\\n' \\\n",
    "      f'в) Оптимальная чистая стратегия для игрока Б: №{opt_strategy_B + 1} - {strategies_B[opt_strategy_B]}\\n' \\\n",
    "      f'г) Цена игры для игрока Б при выборе чистой оптимальной стратегии: {worst_response_scenarios_B[opt_strategy_B]}\\n' \\\n",
    "      f'д) Таблица смешанных стратегий для игрока А: {opt}\\n' \\\n",
    "      f'е) Цена игры для игрока А при выборе смешанной оптимальной стратегии: {v}'\n",
    "\n",
    "    print(res)"
   ],
   "metadata": {
    "collapsed": false,
    "pycharm": {
     "name": "#%%\n"
    }
   }
  },
  {
   "cell_type": "code",
   "execution_count": 4,
   "outputs": [],
   "source": [
    "strategies_A = ['Телефоны','Ноутбуки', 'ПК']\n",
    "strategies_B = ['Телефоны', 'Наушники', 'Ноутбуки']\n",
    "\n",
    "# Матрица игры\n",
    "M = np.array([\n",
    "    [300, 280, 230],\n",
    "    [200, 180, 130],\n",
    "    [240, 380, 400]\n",
    "])"
   ],
   "metadata": {
    "collapsed": false,
    "pycharm": {
     "name": "#%%\n"
    }
   }
  },
  {
   "cell_type": "code",
   "execution_count": 5,
   "outputs": [
    {
     "name": "stdout",
     "output_type": "stream",
     "text": [
      "a) Оптимальная чистая стратегия для игрока А: №3 - ПК\n",
      "б) Цена игры для игрока А при выборе чистой оптимальной стратегии:  240\n",
      "в) Оптимальная чистая стратегия для игрока Б: №1 - Телефоны\n",
      "г) Цена игры для игрока Б при выборе чистой оптимальной стратегии: 300\n",
      "д) Таблица смешанных стратегий для игрока А: [0.73913043 0.         0.26086957]\n",
      "е) Цена игры для игрока А при выборе смешанной оптимальной стратегии: 281.73912932742536\n"
     ]
    }
   ],
   "source": [
    "solve_matrix_game(strategies_A, strategies_B, M)"
   ],
   "metadata": {
    "collapsed": false,
    "pycharm": {
     "name": "#%%\n"
    }
   }
  },
  {
   "cell_type": "markdown",
   "source": [
    "### 2.\tРешение задачи о нахождении выигрышной стратегии для биматричной игры"
   ],
   "metadata": {
    "collapsed": false,
    "pycharm": {
     "name": "#%% md\n"
    }
   }
  },
  {
   "cell_type": "code",
   "execution_count": 102,
   "outputs": [],
   "source": [
    "def solve_bimatrix_game(strategies_A, strategies_B, M_A, M_B):\n",
    "    best_scenarios_A = M_A.max(axis=0)\n",
    "    worst_from_best_scenarios_A = best_scenarios_A.argmin()\n",
    "    worst_scenarios_B = M_B.min(axis=0)\n",
    "    best_from_worst_scenarios_B = worst_scenarios_B.argmax()\n",
    "    v_A = best_scenarios_A[worst_from_best_scenarios_A]\n",
    "    v_B = worst_scenarios_B[best_from_worst_scenarios_B]\n",
    "    v_total = v_A + v_B\n",
    "\n",
    "    P = get_mixed_strategy(M_B, LpMinimize, ge)[0]\n",
    "    Q = get_mixed_strategy(M_A, LpMaximize, le)[0]\n",
    "\n",
    "    v_mixed_A = ((P * M_A.T).T * Q).sum()\n",
    "    v_mixed_B = ((P * M_B.T).T * Q).sum()\n",
    "    v_mixed_total = v_mixed_A + v_mixed_B\n",
    "\n",
    "    import nashpy as nash\n",
    "    nash_balances = list(nash.Game(M_A, M_B).support_enumeration())\n",
    "    print(nash_balances)\n",
    "\n",
    "    res = f\"а) Оптимальная чистая стратегия для игрока А: №{worst_from_best_scenarios_A + 1} - {strategies_A[worst_from_best_scenarios_A]}\\n\" \\\n",
    "          f\"б) Цена игры для игрока А при выборе чистой оптимальной стратегии: {v_A}\\n\" \\\n",
    "          f\"в) Оптимальная чистая стратегия для игрока Б: №{best_from_worst_scenarios_B + 1} - {strategies_B[best_from_worst_scenarios_B]}\\n\" \\\n",
    "          f\"г) Цена игры для игрока Б при выборе чистой оптимальной стратегии: {v_B}\\n\" \\\n",
    "          f\"д) Общая (суммарная) цена игры: {v_total}\\n\" \\\n",
    "          f\"е) Количество равновесий по Нэшу: {len(nash_balances)}\\n\" \\\n",
    "          f\"е) Таблица смешанных стратегий для компании А: {P}\\n\" \\\n",
    "          f\"ж) Цена игры для игрока А при выборе смешанной оптимальной стратегии: {v_mixed_A}\\n\" \\\n",
    "          f\"з) Таблица смешанных стратегий для компании Б: {Q}\\n\" \\\n",
    "          f\"и) Цена игры для игрока Б при выборе смешанной оптимальной стратегии: {v_mixed_B}\\n\" \\\n",
    "          f\"к) Общая цена игры в случае использования оптимальных стратегий: {v_mixed_total}\\n\"\n",
    "\n",
    "    print(res)"
   ],
   "metadata": {
    "collapsed": false,
    "pycharm": {
     "name": "#%%\n"
    }
   }
  },
  {
   "cell_type": "code",
   "execution_count": 103,
   "outputs": [],
   "source": [
    "# в) матрица весовых коэффициентов для игрока A;\n",
    "M_A = np.array([\n",
    "    [300, 280, 230],\n",
    "    [200, 180, 130],\n",
    "    [240, 380, 400],\n",
    "])\n",
    "\n",
    "# г) матрица весовых коэффициентов для игрока Б;\n",
    "M_B = np.array([\n",
    "    [180, 110, 240],\n",
    "    [120, 160, 210],\n",
    "    [300, 140, 250],\n",
    "])"
   ],
   "metadata": {
    "collapsed": false,
    "pycharm": {
     "name": "#%%\n"
    }
   }
  },
  {
   "cell_type": "code",
   "execution_count": 104,
   "outputs": [
    {
     "name": "stdout",
     "output_type": "stream",
     "text": [
      "[(array([0.45454545, 0.        , 0.54545455]), array([0.73913043, 0.        , 0.26086957]))]\n",
      "а) Оптимальная чистая стратегия для игрока А: №1 - Телефоны\n",
      "б) Цена игры для игрока А при выборе чистой оптимальной стратегии: 300\n",
      "в) Оптимальная чистая стратегия для игрока Б: №3 - Ноутбуки\n",
      "г) Цена игры для игрока Б при выборе чистой оптимальной стратегии: 210\n",
      "д) Общая (суммарная) цена игры: 510\n",
      "е) Количество равновесий по Нэшу: 1\n",
      "е) Таблица смешанных стратегий для компании А: [0. 0. 1.]\n",
      "ж) Цена игры для игрока А при выборе смешанной оптимальной стратегии: 281.73913045438184\n",
      "з) Таблица смешанных стратегий для компании Б: [0.73913043 0.         0.26086957]\n",
      "и) Цена игры для игрока Б при выборе смешанной оптимальной стратегии: 286.9565217330057\n",
      "к) Общая цена игры в случае использования оптимальных стратегий: 568.6956521873875\n",
      "\n"
     ]
    }
   ],
   "source": [
    "solve_bimatrix_game(strategies_A, strategies_B, M_A, M_B)"
   ],
   "metadata": {
    "collapsed": false,
    "pycharm": {
     "name": "#%%\n"
    }
   }
  },
  {
   "cell_type": "markdown",
   "source": [
    "### 3.\tРешение задачи о принятии оптимального решения в условиях риска"
   ],
   "metadata": {
    "collapsed": false,
    "pycharm": {
     "name": "#%% md\n"
    }
   }
  },
  {
   "cell_type": "code",
   "execution_count": 9,
   "outputs": [],
   "source": [
    "def solve_game_with_environment(strategies_A, states, M, P):\n",
    "    q = 1 / P.shape[0]\n",
    "    lapplas_criterion = (M * q).sum(axis=1)\n",
    "    lapplas_criterion_opt_v = lapplas_criterion.max()\n",
    "    lapplas_criterion_opt = np.argwhere(lapplas_criterion == lapplas_criterion_opt_v).reshape(-1)\n",
    "    lapplas_criterion_opt_strategies = ', '.join(map(lambda x: f'№{x+1} - {strategies_A[x]}', lapplas_criterion_opt))\n",
    "\n",
    "    bayes_criterion = (M * P).sum(axis=1)\n",
    "    bayes_criterion_opt = bayes_criterion.argmax()\n",
    "    bayes_criterion_opt_v = bayes_criterion[bayes_criterion_opt]\n",
    "\n",
    "    hermeyer_criterion = (M * P).min(axis=1)\n",
    "    hermeyer_criterion_opt = hermeyer_criterion.argmax()\n",
    "    min_j = (M * P).argmin(axis=1)[hermeyer_criterion_opt]\n",
    "    hermeyer_criterion_opt_v = hermeyer_criterion[hermeyer_criterion_opt]\n",
    "\n",
    "    mixed_opt, mixed_opt_v = get_mixed_strategy((M * P).T, LpMinimize, ge)\n",
    "\n",
    "    res = f\"а) Оптимальная стратегия игрока А по критерию Лапласа: {lapplas_criterion_opt_strategies}\\n\" \\\n",
    "      f\"б) Цена игры с оптимальной стратегии по критерию Лапласа: {lapplas_criterion_opt_v}\\n\" \\\n",
    "      f\"в) Оптимальная стратегия игрока А по критерию Баеса: №{bayes_criterion_opt + 1} - {strategies_A[bayes_criterion_opt]}\\n\" \\\n",
    "      f\"г) Цена игры с оптимальной стратегии по критерию Баеса: {bayes_criterion_opt_v}\\n\" \\\n",
    "      f\"д) Оптимальная чистая стратегия игрока А по критерию Гермейера: №{hermeyer_criterion_opt + 1} - {strategies_A[hermeyer_criterion_opt]}\\n\" \\\n",
    "      f\"е) Цена игры с оптимальной чистой стратегии по критерию Гермейера: {hermeyer_criterion_opt_v} / {M[hermeyer_criterion_opt, min_j]}\\n\" \\\n",
    "      f\"ж) Таблица оптимальных смешанных стратегий для игрока А по критерию Гермейера: {mixed_opt}\\n\" \\\n",
    "      f\"з) Цена игры для игрока А при выборе смешанной оптимальной стратегии по критерию Гермейера: {mixed_opt_v} / {((M * P).T * mixed_opt).sum()}\\n\"\n",
    "\n",
    "    print(res)\n"
   ],
   "metadata": {
    "collapsed": false,
    "pycharm": {
     "name": "#%%\n"
    }
   }
  },
  {
   "cell_type": "code",
   "execution_count": 10,
   "outputs": [],
   "source": [
    "# Стратегии\n",
    "strategies_A = [\"Продукты\", \"Косметика\", \"Одежда\", \"Бытовая химия\"]\n",
    "\n",
    "# Состояния природы\n",
    "states = [\"Рецессия\", \"Стагнация\", \"Оживление\", \"Подъем\"]\n",
    "\n",
    "# Матрица коэффициентов\n",
    "M = np.array([\n",
    "    [50, 30, 35, 45],\n",
    "    [40, 40, 55, 40],\n",
    "    [35, 40, 45, 55],\n",
    "    [10, 20, 25, 35]\n",
    "])\n",
    "\n",
    "# Вектор вероятности\n",
    "P = np.array([0.15, 0.25, 0.5, 0.1])"
   ],
   "metadata": {
    "collapsed": false,
    "pycharm": {
     "name": "#%%\n"
    }
   }
  },
  {
   "cell_type": "code",
   "execution_count": 11,
   "outputs": [
    {
     "name": "stdout",
     "output_type": "stream",
     "text": [
      "а) Оптимальная стратегия игрока А по критерию Лапласа: №2 - Косметика, №3 - Одежда\n",
      "б) Цена игры с оптимальной стратегии по критерию Лапласа: 43.75\n",
      "в) Оптимальная стратегия игрока А по критерию Баеса: №2 - Косметика\n",
      "г) Цена игры с оптимальной стратегии по критерию Баеса: 47.5\n",
      "д) Оптимальная чистая стратегия игрока А по критерию Гермейера: №3 - Одежда\n",
      "е) Цена игры с оптимальной чистой стратегии по критерию Гермейера: 5.25 / 35\n",
      "ж) Таблица оптимальных смешанных стратегий для игрока А по критерию Гермейера: [0.07692307 0.         0.92307693 0.        ]\n",
      "з) Цена игры для игрока А при выборе смешанной оптимальной стратегии по критерию Гермейера: 5.42307680898373 / 42.76923078487425\n",
      "\n"
     ]
    }
   ],
   "source": [
    "solve_game_with_environment(strategies_A, states, M, P)"
   ],
   "metadata": {
    "collapsed": false,
    "pycharm": {
     "name": "#%%\n"
    }
   }
  },
  {
   "cell_type": "markdown",
   "source": [
    "### 4.\tРешение задачи о принятии оптимального решения в условиях неопределенности;"
   ],
   "metadata": {
    "collapsed": false,
    "pycharm": {
     "name": "#%% md\n"
    }
   }
  },
  {
   "cell_type": "code",
   "execution_count": 12,
   "outputs": [],
   "source": [
    "def solve_game_with_uncertainty(strategies_A, states, M, P):\n",
    "\n",
    "    # Критерий пессимизма\n",
    "    pessimism_criterion = M.min(axis=1)\n",
    "    pessimism_criterion_opt_v = pessimism_criterion.min()\n",
    "    pessimism_criterion_opt = np.argwhere(pessimism_criterion == pessimism_criterion_opt_v).reshape(-1)\n",
    "    pessimism_criterion_opt_strategies = ', '.join(map(lambda x: f'№{x+1} - {strategies_A[x]}', pessimism_criterion_opt))\n",
    "\n",
    "    # Критерий оптимизма\n",
    "    optimism_criterion = M.max(axis=1)\n",
    "    optimism_criterion_opt_v = optimism_criterion.max()\n",
    "    optimism_criterion_opt = np.argwhere(optimism_criterion == optimism_criterion_opt_v).reshape(-1)\n",
    "    optimism_criterion_opt_strategies = ', '.join(map(lambda x: f'№{x+1} - {strategies_A[x]}', optimism_criterion_opt))\n",
    "\n",
    "\n",
    "\n",
    "    # Критерий Сэвиджа\n",
    "    R = M.max(axis=0) - M # матрица рисков\n",
    "    savage_criterion = R.max(axis=1)\n",
    "    savage_criterion_opt_v = savage_criterion.min()\n",
    "    savage_criterion_opt = np.argwhere(savage_criterion == savage_criterion_opt_v).reshape(-1)\n",
    "    savage_criterion_opt_strategies = ', '.join(map(lambda x: f'№{x+1} - {strategies_A[x]}', savage_criterion_opt))\n",
    "\n",
    "\n",
    "    # Критерий Гурвица\n",
    "    def show_diagram():\n",
    "        diagram = conv[A].plot.bar()\n",
    "        diagram.set_xlabel(\"Величина склонности к риску\")\n",
    "        diagram.set_ylabel(\"Цена игры\")\n",
    "        plt.plot(10 * conv.index, conv['max'], color=\"black\", label='max')\n",
    "        diagram.legend()\n",
    "        return diagram\n",
    "\n",
    "\n",
    "    A = list([f'A{i + 1}' for i in range(M.shape[0])])\n",
    "\n",
    "    conv = pd.DataFrame(columns= A + ['max'], index=np.arange(0, 1 + 0.1, 0.1))\n",
    "\n",
    "    for alpha in conv.index:\n",
    "        conv.loc[alpha, A] = alpha * M.max(axis=1) + (1 - alpha) * M.min(axis=1)\n",
    "    conv.index.name = \"alpha\"\n",
    "    conv['max'] = conv[A].max(axis=1)\n",
    "\n",
    "    # Критерий Вальда\n",
    "    wald_criterion = M.min(axis=1)\n",
    "    wald_criterion_opt_v = wald_criterion.max()\n",
    "    wald_criterion_opt = np.argwhere(wald_criterion == wald_criterion_opt_v).reshape(-1)\n",
    "    wald_criterion_opt_strategies = ', '.join(map(lambda x: f'№{x+1} - {strategies_A[x]}', wald_criterion_opt))\n",
    "\n",
    "\n",
    "\n",
    "\n",
    "    res = f\"а) Оптимальная стратегия игрока А по критерию пессимизма: {pessimism_criterion_opt_strategies}\\n\" \\\n",
    "          f\"б) Цена игры оптимальной стратегии по критерию пессимизма: {pessimism_criterion_opt_v}\\n\" \\\n",
    "          f\"в) Оптимальная стратегия игрока А по критерию оптимизма: {optimism_criterion_opt_strategies} \\n\" \\\n",
    "          f\"г) Цена игры оптимальной стратегии по критерию оптимизма: {optimism_criterion_opt_v}\\n\" \\\n",
    "          f\"д) Оптимальная стратегия игрока А по критерию Вальда: {wald_criterion_opt_strategies}\\n\" \\\n",
    "          f\"е) Цена игры оптимальной стратегии по критерию Вальда: {wald_criterion_opt_v}\\n\" \\\n",
    "          f\"ж) Линейная свертка склонности к риску по критерию Гурвица: \\n{conv}\\n\" \\\n",
    "          f\"з) Гистограмма (диаграмма) максимумов линейной свертки по критерию Гурвица:\\n {show_diagram()} \\n\" \\\n",
    "          f\"и) Оптимальная стратегия игрока А по критерию Сэвиджа: {savage_criterion_opt_strategies}\\n\" \\\n",
    "          f\"к) Величина минимальной недополученной прибыли по критерию Сэвиджа: {savage_criterion[savage_criterion > savage_criterion_opt_v].min() - savage_criterion_opt_v}\\n\"\n",
    "\n",
    "    print(res)\n"
   ],
   "metadata": {
    "collapsed": false,
    "pycharm": {
     "name": "#%%\n"
    }
   }
  },
  {
   "cell_type": "code",
   "execution_count": 13,
   "outputs": [
    {
     "name": "stdout",
     "output_type": "stream",
     "text": [
      "а) Оптимальная стратегия игрока А по критерию пессимизма: №4 - Бытовая химия\n",
      "б) Цена игры оптимальной стратегии по критерию пессимизма: 10\n",
      "в) Оптимальная стратегия игрока А по критерию оптимизма: №2 - Косметика, №3 - Одежда \n",
      "г) Цена игры оптимальной стратегии по критерию оптимизма: 55\n",
      "д) Оптимальная стратегия игрока А по критерию Вальда: №2 - Косметика\n",
      "е) Цена игры оптимальной стратегии по критерию Вальда: 40\n",
      "ж) Линейная свертка склонности к риску по критерию Гурвица: \n",
      "         A1    A2    A3    A4   max\n",
      "alpha                              \n",
      "0.0    30.0  40.0  35.0  10.0  40.0\n",
      "0.1    32.0  41.5  37.0  12.5  41.5\n",
      "0.2    34.0  43.0  39.0  15.0  43.0\n",
      "0.3    36.0  44.5  41.0  17.5  44.5\n",
      "0.4    38.0  46.0  43.0  20.0  46.0\n",
      "0.5    40.0  47.5  45.0  22.5  47.5\n",
      "0.6    42.0  49.0  47.0  25.0  49.0\n",
      "0.7    44.0  50.5  49.0  27.5  50.5\n",
      "0.8    46.0  52.0  51.0  30.0  52.0\n",
      "0.9    48.0  53.5  53.0  32.5  53.5\n",
      "1.0    50.0  55.0  55.0  35.0  55.0\n",
      "з) Гистограмма (диаграмма) максимумов линейной свертки по критерию Гурвица:\n",
      " AxesSubplot(0.125,0.125;0.775x0.755) \n",
      "и) Оптимальная стратегия игрока А по критерию Сэвиджа: №2 - Косметика, №3 - Одежда\n",
      "к) Величина минимальной недополученной прибыли по критерию Сэвиджа: 5\n",
      "\n"
     ]
    },
    {
     "data": {
      "text/plain": "<Figure size 432x288 with 1 Axes>",
      "image/png": "[encoded data removed]"
     },
     "metadata": {
      "needs_background": "light"
     },
     "output_type": "display_data"
    }
   ],
   "source": [
    "solve_game_with_uncertainty(strategies_A, states, M ,P)"
   ],
   "metadata": {
    "collapsed": false,
    "pycharm": {
     "name": "#%%\n"
    }
   }
  },
  {
   "cell_type": "code",
   "execution_count": null,
   "outputs": [],
   "source": [],
   "metadata": {
    "collapsed": false,
    "pycharm": {
     "name": "#%%\n"
    }
   }
  }
 ],
 "metadata": {
  "kernelspec": {
   "display_name": "Python 3",
   "language": "python",
   "name": "python3"
  },
  "language_info": {
   "codemirror_mode": {
    "name": "ipython",
    "version": 2
   },
   "file_extension": ".py",
   "mimetype": "text/x-python",
   "name": "python",
   "nbconvert_exporter": "python",
   "pygments_lexer": "ipython2",
   "version": "2.7.6"
  }
 },
 "nbformat": 4,
 "nbformat_minor": 0
}