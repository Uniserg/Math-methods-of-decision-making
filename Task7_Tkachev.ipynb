{
 "cells": [
  {
   "cell_type": "code",
   "execution_count": 2,
   "outputs": [],
   "source": [
    "from pulp import LpProblem, LpMinimize, LpVariable, LpInteger\n",
    "import numpy as np"
   ],
   "metadata": {
    "collapsed": false,
    "pycharm": {
     "name": "#%%\n"
    }
   }
  },
  {
   "cell_type": "code",
   "execution_count": 3,
   "outputs": [],
   "source": [
    "# Размерность матрицы\n",
    "n = 3\n",
    "m = 5\n",
    "\n",
    "C = np.array([\n",
    "    [9, 4, 6, 5, 6],\n",
    "    [17, 11, 15, 3, 7],\n",
    "    [20, 9, 15, 7, 25]\n",
    "])\n",
    "\n",
    "i_s = ord('a')\n",
    "\n",
    "# Переменные\n",
    "X = np.array(list(LpVariable(f'{chr(i)}', lowBound=0, cat=LpInteger) for i in range(i_s, i_s + n * m)))\\\n",
    "    .reshape((n, m))\n",
    "\n",
    "# Запасы\n",
    "A = np.array([270, 390, 290])\n",
    "\n",
    "# Потребности\n",
    "B = np.array([150, 100, 250, 340, 110])\n"
   ],
   "metadata": {
    "collapsed": false,
    "pycharm": {
     "name": "#%%\n"
    }
   }
  },
  {
   "cell_type": "markdown",
   "source": [
    "Проверим, задача является закрытого типа (сумма потребностей = сумме запасов)"
   ],
   "metadata": {
    "collapsed": false,
    "pycharm": {
     "name": "#%% md\n"
    }
   }
  },
  {
   "cell_type": "code",
   "execution_count": 4,
   "outputs": [
    {
     "data": {
      "text/plain": "True"
     },
     "execution_count": 4,
     "metadata": {},
     "output_type": "execute_result"
    }
   ],
   "source": [
    "A.sum() == B.sum()"
   ],
   "metadata": {
    "collapsed": false,
    "pycharm": {
     "name": "#%%\n"
    }
   }
  },
  {
   "cell_type": "code",
   "execution_count": 3,
   "outputs": [],
   "source": [
    "# Целевая функция\n",
    "F = (C * X).sum()\n",
    "\n",
    "le = np.vectorize(lambda x, y: x <= y)\n",
    "eq = np.vectorize(lambda x, y: x == y)\n",
    "\n",
    "# Ограничения запасов\n",
    "C1 = le(X.sum(axis=1), A)\n",
    "# Ограничения потребностей\n",
    "C2 = eq(X.sum(axis=0), B)"
   ],
   "metadata": {
    "collapsed": false,
    "pycharm": {
     "name": "#%%\n"
    }
   }
  },
  {
   "cell_type": "code",
   "execution_count": 4,
   "outputs": [],
   "source": [
    "model = LpProblem(\"Distribution_Problem\", LpMinimize)\n",
    "model += F\n",
    "for i in [C1, C2]:\n",
    "    for j in i:\n",
    "        model += j"
   ],
   "metadata": {
    "collapsed": false,
    "pycharm": {
     "name": "#%%\n"
    }
   }
  },
  {
   "cell_type": "code",
   "execution_count": 5,
   "outputs": [
    {
     "data": {
      "text/plain": "Distribution_Problem:\nMINIMIZE\n9*a + 4*b + 6*c + 5*d + 6*e + 17*f + 11*g + 15*h + 3*i + 7*j + 20*k + 9*l + 15*m + 7*n + 25*o + 0\nSUBJECT TO\n_C1: a + b + c + d + e <= 270\n\n_C2: f + g + h + i + j <= 390\n\n_C3: k + l + m + n + o <= 290\n\n_C4: a + f + k = 150\n\n_C5: b + g + l = 100\n\n_C6: c + h + m = 250\n\n_C7: d + i + n = 340\n\n_C8: e + j + o = 110\n\nVARIABLES\n0 <= a Integer\n0 <= b Integer\n0 <= c Integer\n0 <= d Integer\n0 <= e Integer\n0 <= f Integer\n0 <= g Integer\n0 <= h Integer\n0 <= i Integer\n0 <= j Integer\n0 <= k Integer\n0 <= l Integer\n0 <= m Integer\n0 <= n Integer\n0 <= o Integer"
     },
     "execution_count": 5,
     "metadata": {},
     "output_type": "execute_result"
    }
   ],
   "source": [
    "model"
   ],
   "metadata": {
    "collapsed": false,
    "pycharm": {
     "name": "#%%\n"
    }
   }
  },
  {
   "cell_type": "code",
   "execution_count": 6,
   "outputs": [
    {
     "data": {
      "text/plain": "1"
     },
     "execution_count": 6,
     "metadata": {},
     "output_type": "execute_result"
    }
   ],
   "source": [
    "model.solve()"
   ],
   "metadata": {
    "collapsed": false,
    "pycharm": {
     "name": "#%%\n"
    }
   }
  },
  {
   "cell_type": "code",
   "execution_count": 7,
   "outputs": [
    {
     "name": "stdout",
     "output_type": "stream",
     "text": [
      "Оптимальный план перевозки:\n"
     ]
    },
    {
     "data": {
      "text/plain": "array([[150.,   0., 120.,   0.,   0.],\n       [  0.,   0.,   0., 280., 110.],\n       [  0., 100., 130.,  60.,   0.]])"
     },
     "execution_count": 7,
     "metadata": {},
     "output_type": "execute_result"
    }
   ],
   "source": [
    "X_star = np.vectorize(lambda x: x.value())(np.array(model.variables()))\n",
    "\n",
    "print('Оптимальный план перевозки:')\n",
    "X_star.reshape((n, m))"
   ],
   "metadata": {
    "collapsed": false,
    "pycharm": {
     "name": "#%%\n"
    }
   }
  },
  {
   "cell_type": "code",
   "execution_count": 8,
   "outputs": [
    {
     "name": "stdout",
     "output_type": "stream",
     "text": [
      "Оптимальная стоимость перевозки\n"
     ]
    },
    {
     "data": {
      "text/plain": "6950.0"
     },
     "execution_count": 8,
     "metadata": {},
     "output_type": "execute_result"
    }
   ],
   "source": [
    "print('Оптимальная стоимость перевозки')\n",
    "model.objective.value()"
   ],
   "metadata": {
    "collapsed": false,
    "pycharm": {
     "name": "#%%\n"
    }
   }
  }
 ],
 "metadata": {
  "kernelspec": {
   "display_name": "Python 3",
   "language": "python",
   "name": "python3"
  },
  "language_info": {
   "codemirror_mode": {
    "name": "ipython",
    "version": 2
   },
   "file_extension": ".py",
   "mimetype": "text/x-python",
   "name": "python",
   "nbconvert_exporter": "python",
   "pygments_lexer": "ipython2",
   "version": "2.7.6"
  }
 },
 "nbformat": 4,
 "nbformat_minor": 0
}