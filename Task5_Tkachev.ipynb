{
 "cells": [
  {
   "cell_type": "markdown",
   "source": [
    "### Задание 5.\n",
    "Линейное программирование. Графический метод [1,2 – гл. 3, 4]\n",
    "Решить задачу линейного программирования, используя геометрическую интерпретацию.\n",
    "Проверить результаты вычислений на компьютере"
   ],
   "metadata": {
    "collapsed": false,
    "pycharm": {
     "name": "#%% md\n"
    }
   }
  },
  {
   "cell_type": "code",
   "execution_count": 1,
   "outputs": [],
   "source": [
    "import sympy as sym\n",
    "from pulp import LpProblem, LpMaximize, LpVariable, LpStatus\n",
    "%matplotlib inline"
   ],
   "metadata": {
    "collapsed": false,
    "pycharm": {
     "name": "#%%\n"
    }
   }
  },
  {
   "cell_type": "code",
   "execution_count": 2,
   "outputs": [],
   "source": [
    "\n",
    "class LP:\n",
    "    def __init__(self, a, b, c, D, F):\n",
    "        self.a = a\n",
    "        self.b = b\n",
    "        self.c = c\n",
    "        self.s_F = F\n",
    "\n",
    "        self.F = sym.parse_expr(F).subs(dict(a=a, b=b, c=c))\n",
    "        self.D = list(map(lambda x: sym.parse_expr(x).subs(dict(a=a, b=b, c=c)), D))\n",
    "\n",
    "        self.x_coord = (-20, 20)\n",
    "        self.y_coord = (-20, 20)\n",
    "\n",
    "\n",
    "        self.model = self._create_model()\n",
    "\n",
    "\n",
    "    def _create_model(self):\n",
    "        model = LpProblem(name=\"resource-allocation\", sense = LpMaximize)\n",
    "        x1 = LpVariable(name=\"x_1\")\n",
    "        x2 = LpVariable(name=\"x_2\")\n",
    "        model += sym.lambdify(['x_1', 'x_2'], self.F)(x1, x2)\n",
    "\n",
    "        d_names = ['A', 'B', 'C', 'D']\n",
    "        it = iter(d_names)\n",
    "\n",
    "        for d in self.D:\n",
    "            f = lambda x_1, x_2: eval(str(d))\n",
    "            model += (f(x1, x2), next(it))\n",
    "\n",
    "        model.solve()\n",
    "\n",
    "        return model\n",
    "\n",
    "\n",
    "\n",
    "    def __repr__(self):\n",
    "        status = self.model.status\n",
    "        x1_total = self.model.variables()[0].value()\n",
    "        x2_total = self.model.variables()[1].value()\n",
    "        F = self.model.objective.value()\n",
    "\n",
    "        self.show_graphic()\n",
    "\n",
    "        return f'Статус решения: {status}, {LpStatus[status]}\\n' \\\n",
    "               f'Оптимальное значение целевой функции: {int(F)}\\n' \\\n",
    "               f'Оптимальный план: (x1 = {int(x1_total)}, x2 = {int(x2_total)})'\n",
    "\n",
    "\n",
    "\n",
    "\n",
    "    def show_graphic(self):\n",
    "        colors = ['r', '#F2E62E', 'b', '#18C95E']\n",
    "        d_names = ['A', 'B', 'C', 'D']\n",
    "\n",
    "        x1_total = self.model.variables()[0].value()\n",
    "        x2_total = self.model.variables()[1].value()\n",
    "\n",
    "        p = sym.plot_implicit(sym.And(*self.D),\n",
    "                              ('x_1', *self.x_coord),\n",
    "                              ('x_2', *self.y_coord),\n",
    "                              line_color=\"#2BE68F\",\n",
    "                              show=False,\n",
    "                              markers=[{'args': [x1_total, x2_total, 'go'], 'color':'#0AFFF4'}]\n",
    "                              )\n",
    "\n",
    "        for i in range(len(colors)):\n",
    "            p.append(sym.plot_implicit(\n",
    "                sym.Eq(*self.D[i].args),\n",
    "                ('x_1', *self.x_coord),\n",
    "                ('x_2', *self.y_coord),\n",
    "                line_color=colors[i],\n",
    "                adaptive=False,\n",
    "                show=False)[0])\n",
    "\n",
    "\n",
    "\n",
    "\n",
    "        print(sym.Eq(self.F, self.model.objective.value()))\n",
    "\n",
    "        p.append(sym.plot_implicit(sym.Eq(self.F, self.model.objective.value()),\n",
    "                                   ('x_1', *self.x_coord),\n",
    "                                   ('x_2', *self.y_coord),\n",
    "                                   line_color='black', adaptive=False, show=False)[0])\n",
    "\n",
    "        p.append(sym.plot_implicit(sym.Eq(self.F, 2),\n",
    "                                   ('x_1', *self.x_coord),\n",
    "                                   ('x_2', *self.y_coord),\n",
    "                                   line_color='#808080', adaptive=False, show=False)[0])\n",
    "\n",
    "\n",
    "        p.annotations = []\n",
    "        o = 20\n",
    "\n",
    "\n",
    "\n",
    "        for i in range(len(d_names)):\n",
    "            p.annotations.append(\n",
    "                {'xy': (15, o), 'text': d_names[i], 'ha': 'left', 'va': 'top', 'color': colors[i]}\n",
    "            )\n",
    "            o -= 2\n",
    "\n",
    "        p.annotations.append(\n",
    "            {'xy': (15, o), 'text': f'F={self.model.objective.value()}', 'ha': 'left', 'va': 'top', 'color': 'black'}\n",
    "        )\n",
    "\n",
    "        p.annotations.append(\n",
    "            {'xy': (15, o - 2), 'text': 'F=2', 'ha': 'left', 'va': 'top', 'color': '#808080'}\n",
    "        )\n",
    "\n",
    "        p.annotations.append(\n",
    "            {'xy': (x1_total + 2, x2_total), 'text': f'M*({int(x1_total)}, {int(x2_total)})', 'ha': 'left', 'va': 'top', 'color': '#0AFFF4'}\n",
    "        )\n",
    "\n",
    "\n",
    "        f_opt = 'x_1 +' + str(-1/self.a) + '*x_2'\n",
    "        opt_l = sym.plot_implicit(sym.Eq(sym.parse_expr(f_opt), x1_total + -1/self.a * x2_total),\n",
    "                           ('x_1', *self.x_coord),\n",
    "                           ('x_2', *self.y_coord),\n",
    "                           line_color='#0AFFF4', adaptive=False, show=False)\n",
    "\n",
    "        p.annotations.append(\n",
    "                {'xy': (15, o - 4), 'text': 'solution arrow', 'ha': 'left', 'va': 'top', 'color': '#0AFFF4'})\n",
    "\n",
    "        p.append(opt_l[0])\n",
    "\n",
    "        p.show()\n"
   ],
   "metadata": {
    "collapsed": false,
    "pycharm": {
     "name": "#%%\n"
    }
   }
  },
  {
   "cell_type": "code",
   "execution_count": 3,
   "outputs": [],
   "source": [
    "a = 4\n",
    "b = 8\n",
    "c= 3/4\n",
    "\n",
    "F = 'x_1 + a * x_2'\n",
    "\n",
    "D = ['x_1 + 2 * x_2 <= 10',\n",
    "      '3 * x_1 + 2 * x_2 <= 18',\n",
    "      'x_1 - x_2 >= -b',\n",
    "      'c * x_1 - x_2 <= 8 *c + 3']\n",
    "\n",
    "lp = LP(a, b, c, D, F)"
   ],
   "metadata": {
    "collapsed": false,
    "pycharm": {
     "name": "#%%\n"
    }
   }
  },
  {
   "cell_type": "code",
   "execution_count": 4,
   "outputs": [
    {
     "name": "stdout",
     "output_type": "stream",
     "text": [
      "Eq(x_1 + 4*x_2, 22.0)\n"
     ]
    },
    {
     "data": {
      "text/plain": "<Figure size 432x288 with 1 Axes>",
      "image/png": "[encoded data removed]"
     },
     "metadata": {
      "needs_background": "light"
     },
     "output_type": "display_data"
    },
    {
     "data": {
      "text/plain": "Статус решения: 1, Optimal\nОптимальное значение целевой функции: 22\nОптимальный план: (x1 = -2, x2 = 6)"
     },
     "execution_count": 4,
     "metadata": {},
     "output_type": "execute_result"
    }
   ],
   "source": [
    "lp"
   ],
   "metadata": {
    "collapsed": false,
    "pycharm": {
     "name": "#%%\n"
    }
   }
  },
  {
   "cell_type": "code",
   "execution_count": 576,
   "outputs": [],
   "source": [],
   "metadata": {
    "collapsed": false,
    "pycharm": {
     "name": "#%%\n"
    }
   }
  }
 ],
 "metadata": {
  "kernelspec": {
   "display_name": "Python 3",
   "language": "python",
   "name": "python3"
  },
  "language_info": {
   "codemirror_mode": {
    "name": "ipython",
    "version": 2
   },
   "file_extension": ".py",
   "mimetype": "text/x-python",
   "name": "python",
   "nbconvert_exporter": "python",
   "pygments_lexer": "ipython2",
   "version": "2.7.6"
  }
 },
 "nbformat": 4,
 "nbformat_minor": 0
}