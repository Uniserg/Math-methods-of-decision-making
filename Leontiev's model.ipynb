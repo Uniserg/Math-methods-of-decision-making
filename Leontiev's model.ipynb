{
 "cells": [
  {
   "cell_type": "code",
   "execution_count": 89,
   "metadata": {
    "collapsed": true,
    "pycharm": {
     "name": "#%%\n"
    }
   },
   "outputs": [],
   "source": [
    "import numpy as np\n",
    "\n",
    "class LeontievModel:\n",
    "    def __init__(self, X: np.array, y: np.array, y2: np.array):\n",
    "\n",
    "        if X.shape[0] != y.shape[0] or y.shape[0] != y2.shape[0]:\n",
    "            raise Exception(\"Введеные аргументы-матрицы имеют несопоставимую размерность.\")\n",
    "\n",
    "        self._X = X\n",
    "        self._y = y\n",
    "        self._x = X.sum(axis=1) + y\n",
    "        self._y2 = y2\n",
    "\n",
    "        self._A = None\n",
    "        self._S = None\n",
    "        self._d = None\n",
    "        self._P = None\n",
    "        self._lambda_A = None\n",
    "        self._is_productive = None\n",
    "        self._x2 = None\n",
    "        self._xc = None\n",
    "\n",
    "        self.fill()\n",
    "\n",
    "\n",
    "    def __repr__(self):\n",
    "        return f'''\n",
    "Матрица прямых затрат A =\n",
    "{self._A},\n",
    "матрица A{' НЕ' if not self._is_productive else ''} продуктивна,\n",
    "число Фробениуса λA = {self._lambda_A},\n",
    "вектор Фробениуса pA = {self._frobenious_vector},\n",
    "новый вектор объемов производства (валового продукта) x2 = , {self._x2}\n",
    "вектор чистой продукции отраслей xc = {self._xc}\n",
    "'''\n",
    "\n",
    "    def fill(self):\n",
    "        self._A = self.X / self.x\n",
    "        self._S = np.linalg.inv(np.eye(self.X.shape[0]) - self._A)\n",
    "        self._d, self._P = np.linalg.eig(self._A)\n",
    "\n",
    "        frobenious_idx = self._d.argmax()\n",
    "\n",
    "        self._lambda_A = self._d[frobenious_idx]\n",
    "        self._frobenious_vector = self._P[:, frobenious_idx]\n",
    "        self._is_productive = (self._S >= 0).all()\n",
    "        self._x2 = self._S @ y2\n",
    "\n",
    "        self._xc = np.zeros(self._A.shape)\n",
    "        self._xc = self._x2 - (self._A * self._x2.T).sum(axis=0)\n",
    "\n",
    "    def _get_X(self):\n",
    "        return self._X\n",
    "\n",
    "    def _get_x(self):\n",
    "        return self._x\n",
    "\n",
    "    def _get_y(self):\n",
    "        return self._y\n",
    "\n",
    "    def _get_y2(self):\n",
    "        return self._y2\n",
    "\n",
    "    def _get_A(self):\n",
    "        return self._A\n",
    "\n",
    "    def _get_S(self):\n",
    "        return self._S\n",
    "\n",
    "    def _get_d(self):\n",
    "        return self._P\n",
    "\n",
    "    def _get_lambda_A(self):\n",
    "        return self._lambda_A\n",
    "\n",
    "    def _get_frobenious_vector(self):\n",
    "        return self._frobenious_vector\n",
    "\n",
    "    def _get_is_productive(self):\n",
    "        return self._is_productive\n",
    "\n",
    "    def _get_x2(self):\n",
    "        return self._x2\n",
    "\n",
    "    def _get_xc(self):\n",
    "        return self._xc\n",
    "\n",
    "    X = property(fget=_get_X)\n",
    "    x = property(fget=_get_x)\n",
    "    y = property(fget=_get_y)\n",
    "    y2 = property(fget=_get_y2)\n",
    "    A = property(fget=_get_A)\n",
    "    S = property(fget=_get_S)\n",
    "    d = property(fget=_get_d)\n",
    "    is_productive = property(fget=_get_is_productive)\n",
    "    x2 = property(fget=_get_x2)\n",
    "    xc = property(fget=_get_xc)\n",
    "    lambdaA = property(fget=_get_lambda_A)\n",
    "    frobenious_vector = property(fget=_get_frobenious_vector)\n",
    "\n",
    "\n",
    "\n"
   ]
  },
  {
   "cell_type": "code",
   "execution_count": 90,
   "outputs": [],
   "source": [
    "# Вариант 31 (вариант из методички для теста)\n",
    "X = np.array([[11, 30],\n",
    "              [17, 20]])\n",
    "\n",
    "y = np.array([100, 130])\n",
    "x = np.array([141, 167])\n",
    "y2 = np.array([200, 130])\n"
   ],
   "metadata": {
    "collapsed": false,
    "pycharm": {
     "name": "#%%\n"
    }
   }
  },
  {
   "cell_type": "code",
   "execution_count": 91,
   "outputs": [
    {
     "data": {
      "text/plain": "\nМатрица прямых затрат A = \n[[0.07801418 0.17964072]\n [0.12056738 0.11976048]],\nматрица A продуктивна,\nчисло Фробениуса λA = 0.2475295138840824,\nвектор Фробениуса pA = [-0.72730684 -0.68631243],\nновый вектор объемов производства (валового продукта) x2 = , [252.43548387 182.26344086]\nвектор чистой продукции отраслей xc = [202.30645161 127.69354839]"
     },
     "execution_count": 91,
     "metadata": {},
     "output_type": "execute_result"
    }
   ],
   "source": [
    "LeontievModel(X, y, y2)"
   ],
   "metadata": {
    "collapsed": false,
    "pycharm": {
     "name": "#%%\n"
    }
   }
  },
  {
   "cell_type": "code",
   "execution_count": 92,
   "outputs": [
    {
     "data": {
      "text/plain": "array([190, 131])"
     },
     "execution_count": 92,
     "metadata": {},
     "output_type": "execute_result"
    }
   ],
   "source": [
    "# Вариант 22 (мой вариант)\n",
    "X = np.array([[12, 26],\n",
    "              [22, 28]])\n",
    "y = np.array([95, 131])\n",
    "\n",
    "y2 = y.copy()\n",
    "y2[0] *= 2\n",
    "y2"
   ],
   "metadata": {
    "collapsed": false,
    "pycharm": {
     "name": "#%%\n"
    }
   }
  },
  {
   "cell_type": "code",
   "execution_count": 93,
   "outputs": [],
   "source": [
    "m = LeontievModel(X, y, y2)"
   ],
   "metadata": {
    "collapsed": false,
    "pycharm": {
     "name": "#%%\n"
    }
   }
  },
  {
   "cell_type": "code",
   "execution_count": 94,
   "outputs": [
    {
     "data": {
      "text/plain": "\nМатрица прямых затрат A = \n[[0.09022556 0.14364641]\n [0.16541353 0.15469613]],\nматрица A продуктивна,\nчисло Фробениуса λA = 0.27994155712113855,\nвектор Фробениуса pA = [-0.60364987 -0.79724955],\nновый вектор объемов производства (валового продукта) x2 = , [240.75068279 202.08522379]\nвектор чистой продукции отраслей xc = [179.20539546 141.79460454]"
     },
     "execution_count": 94,
     "metadata": {},
     "output_type": "execute_result"
    }
   ],
   "source": [
    "m"
   ],
   "metadata": {
    "collapsed": false,
    "pycharm": {
     "name": "#%%\n"
    }
   }
  },
  {
   "cell_type": "markdown",
   "source": [
    "Доступ к результатам вычисленных значений модели осуществляется через свойства объекта (модели). При попытке изменить значение, выведится ошибка. Это вполне логично - запретить изменение высчитанных значений."
   ],
   "metadata": {
    "collapsed": false,
    "pycharm": {
     "name": "#%% md\n"
    }
   }
  },
  {
   "cell_type": "code",
   "execution_count": 95,
   "outputs": [
    {
     "ename": "AttributeError",
     "evalue": "can't set attribute",
     "output_type": "error",
     "traceback": [
      "\u001B[1;31m---------------------------------------------------------------------------\u001B[0m",
      "\u001B[1;31mAttributeError\u001B[0m                            Traceback (most recent call last)",
      "\u001B[1;32m~\\AppData\\Local\\Temp/ipykernel_2816/2971664142.py\u001B[0m in \u001B[0;36m<module>\u001B[1;34m\u001B[0m\n\u001B[1;32m----> 1\u001B[1;33m \u001B[0mm\u001B[0m\u001B[1;33m.\u001B[0m\u001B[0mA\u001B[0m \u001B[1;33m=\u001B[0m \u001B[1;32mNone\u001B[0m \u001B[1;31m# произойдет ошибка, так как высчитанное значение изменить нельзя\u001B[0m\u001B[1;33m\u001B[0m\u001B[1;33m\u001B[0m\u001B[0m\n\u001B[0m",
      "\u001B[1;31mAttributeError\u001B[0m: can't set attribute"
     ]
    }
   ],
   "source": [
    "m.A = None # произойдет ошибка, так как высчитанное значение изменить нельзя"
   ],
   "metadata": {
    "collapsed": false,
    "pycharm": {
     "name": "#%%\n"
    }
   }
  },
  {
   "cell_type": "markdown",
   "source": [
    "Можно было бы изменить входные значения X, y и y2, и пересчитать результаты, однако лучше для этого просто создать новый объект (модель). В этом случае также блокируем доступ к изменению первоначальных данных"
   ],
   "metadata": {
    "collapsed": false,
    "pycharm": {
     "name": "#%% md\n"
    }
   }
  },
  {
   "cell_type": "code",
   "execution_count": 96,
   "outputs": [
    {
     "ename": "AttributeError",
     "evalue": "can't set attribute",
     "output_type": "error",
     "traceback": [
      "\u001B[1;31m---------------------------------------------------------------------------\u001B[0m",
      "\u001B[1;31mAttributeError\u001B[0m                            Traceback (most recent call last)",
      "\u001B[1;32m~\\AppData\\Local\\Temp/ipykernel_2816/1401950407.py\u001B[0m in \u001B[0;36m<module>\u001B[1;34m\u001B[0m\n\u001B[1;32m----> 1\u001B[1;33m \u001B[0mm\u001B[0m\u001B[1;33m.\u001B[0m\u001B[0mX\u001B[0m \u001B[1;33m=\u001B[0m \u001B[0mnp\u001B[0m\u001B[1;33m.\u001B[0m\u001B[0marray\u001B[0m\u001B[1;33m(\u001B[0m\u001B[1;33m[\u001B[0m\u001B[1;36m12\u001B[0m\u001B[1;33m,\u001B[0m\u001B[1;36m12\u001B[0m\u001B[1;33m,\u001B[0m\u001B[1;36m2\u001B[0m\u001B[1;33m]\u001B[0m\u001B[1;33m)\u001B[0m \u001B[1;31m# произойдет ошибка - лучше создать новую модель и высчитать новые значения, чем менять существующую!\u001B[0m\u001B[1;33m\u001B[0m\u001B[1;33m\u001B[0m\u001B[0m\n\u001B[0m",
      "\u001B[1;31mAttributeError\u001B[0m: can't set attribute"
     ]
    }
   ],
   "source": [
    "m.X = np.array([12,12,2]) # произойдет ошибка - лучше создать новую модель и высчитать новые значения, чем менять существующую!"
   ],
   "metadata": {
    "collapsed": false,
    "pycharm": {
     "name": "#%%\n"
    }
   }
  },
  {
   "cell_type": "code",
   "execution_count": 97,
   "outputs": [
    {
     "ename": "Exception",
     "evalue": "Введеные аргументы-матрицы имеют несопоставимую размерность.",
     "output_type": "error",
     "traceback": [
      "\u001B[1;31m---------------------------------------------------------------------------\u001B[0m",
      "\u001B[1;31mException\u001B[0m                                 Traceback (most recent call last)",
      "\u001B[1;32m~\\AppData\\Local\\Temp/ipykernel_2816/775082888.py\u001B[0m in \u001B[0;36m<module>\u001B[1;34m\u001B[0m\n\u001B[1;32m----> 1\u001B[1;33m LeontievModel(X=np.array([[1,2,3], [4,5,6]]),\n\u001B[0m\u001B[0;32m      2\u001B[0m               \u001B[0my\u001B[0m\u001B[1;33m=\u001B[0m\u001B[0mnp\u001B[0m\u001B[1;33m.\u001B[0m\u001B[0marray\u001B[0m\u001B[1;33m(\u001B[0m\u001B[1;33m[\u001B[0m\u001B[1;36m1\u001B[0m\u001B[1;33m]\u001B[0m\u001B[1;33m)\u001B[0m\u001B[1;33m,\u001B[0m\u001B[1;33m\u001B[0m\u001B[1;33m\u001B[0m\u001B[0m\n\u001B[0;32m      3\u001B[0m               y2=np.array([2,6])) # Проверка размерности матриц\n",
      "\u001B[1;32m~\\AppData\\Local\\Temp/ipykernel_2816/2337680816.py\u001B[0m in \u001B[0;36m__init__\u001B[1;34m(self, X, y, y2)\u001B[0m\n\u001B[0;32m      5\u001B[0m \u001B[1;33m\u001B[0m\u001B[0m\n\u001B[0;32m      6\u001B[0m         \u001B[1;32mif\u001B[0m \u001B[0mX\u001B[0m\u001B[1;33m.\u001B[0m\u001B[0mshape\u001B[0m\u001B[1;33m[\u001B[0m\u001B[1;36m0\u001B[0m\u001B[1;33m]\u001B[0m \u001B[1;33m!=\u001B[0m \u001B[0my\u001B[0m\u001B[1;33m.\u001B[0m\u001B[0mshape\u001B[0m\u001B[1;33m[\u001B[0m\u001B[1;36m0\u001B[0m\u001B[1;33m]\u001B[0m \u001B[1;32mor\u001B[0m \u001B[0my\u001B[0m\u001B[1;33m.\u001B[0m\u001B[0mshape\u001B[0m\u001B[1;33m[\u001B[0m\u001B[1;36m0\u001B[0m\u001B[1;33m]\u001B[0m \u001B[1;33m!=\u001B[0m \u001B[0my2\u001B[0m\u001B[1;33m.\u001B[0m\u001B[0mshape\u001B[0m\u001B[1;33m[\u001B[0m\u001B[1;36m0\u001B[0m\u001B[1;33m]\u001B[0m\u001B[1;33m:\u001B[0m\u001B[1;33m\u001B[0m\u001B[1;33m\u001B[0m\u001B[0m\n\u001B[1;32m----> 7\u001B[1;33m             \u001B[1;32mraise\u001B[0m \u001B[0mException\u001B[0m\u001B[1;33m(\u001B[0m\u001B[1;34m\"Введеные аргументы-матрицы имеют несопоставимую размерность.\"\u001B[0m\u001B[1;33m)\u001B[0m\u001B[1;33m\u001B[0m\u001B[1;33m\u001B[0m\u001B[0m\n\u001B[0m\u001B[0;32m      8\u001B[0m \u001B[1;33m\u001B[0m\u001B[0m\n\u001B[0;32m      9\u001B[0m         \u001B[0mself\u001B[0m\u001B[1;33m.\u001B[0m\u001B[0m_X\u001B[0m \u001B[1;33m=\u001B[0m \u001B[0mX\u001B[0m\u001B[1;33m\u001B[0m\u001B[1;33m\u001B[0m\u001B[0m\n",
      "\u001B[1;31mException\u001B[0m: Введеные аргументы-матрицы имеют несопоставимую размерность."
     ]
    }
   ],
   "source": [
    "LeontievModel(X=np.array([[1,2,3], [4,5,6]]),\n",
    "              y=np.array([1]),\n",
    "              y2=np.array([2,6])) # Проверка размерности матриц"
   ],
   "metadata": {
    "collapsed": false,
    "pycharm": {
     "name": "#%%\n"
    }
   }
  },
  {
   "cell_type": "code",
   "execution_count": 98,
   "outputs": [
    {
     "data": {
      "text/plain": "array([[0.09022556, 0.14364641],\n       [0.16541353, 0.15469613]])"
     },
     "execution_count": 98,
     "metadata": {},
     "output_type": "execute_result"
    }
   ],
   "source": [
    "m.A # Матрица прямых затрат"
   ],
   "metadata": {
    "collapsed": false,
    "pycharm": {
     "name": "#%%\n"
    }
   }
  },
  {
   "cell_type": "code",
   "execution_count": 99,
   "outputs": [
    {
     "data": {
      "text/plain": "True"
     },
     "execution_count": 99,
     "metadata": {},
     "output_type": "execute_result"
    }
   ],
   "source": [
    "m.is_productive # Продуктивна ли матрица"
   ],
   "metadata": {
    "collapsed": false,
    "pycharm": {
     "name": "#%%\n"
    }
   }
  },
  {
   "cell_type": "code",
   "execution_count": 100,
   "outputs": [
    {
     "data": {
      "text/plain": "0.27994155712113855"
     },
     "execution_count": 100,
     "metadata": {},
     "output_type": "execute_result"
    }
   ],
   "source": [
    "m.lambdaA # Число Фробениуса"
   ],
   "metadata": {
    "collapsed": false,
    "pycharm": {
     "name": "#%%\n"
    }
   }
  },
  {
   "cell_type": "code",
   "execution_count": 101,
   "outputs": [
    {
     "data": {
      "text/plain": "array([-0.60364987, -0.79724955])"
     },
     "execution_count": 101,
     "metadata": {},
     "output_type": "execute_result"
    }
   ],
   "source": [
    "m.frobenious_vector # вектор Фробениуса pA"
   ],
   "metadata": {
    "collapsed": false,
    "pycharm": {
     "name": "#%%\n"
    }
   }
  },
  {
   "cell_type": "code",
   "execution_count": 102,
   "outputs": [
    {
     "data": {
      "text/plain": "array([240.75068279, 202.08522379])"
     },
     "execution_count": 102,
     "metadata": {},
     "output_type": "execute_result"
    }
   ],
   "source": [
    "m.x2 # новый вектор объемов производства (валового продукта) x2"
   ],
   "metadata": {
    "collapsed": false,
    "pycharm": {
     "name": "#%%\n"
    }
   }
  },
  {
   "cell_type": "code",
   "execution_count": 103,
   "outputs": [
    {
     "data": {
      "text/plain": "array([179.20539546, 141.79460454])"
     },
     "execution_count": 103,
     "metadata": {},
     "output_type": "execute_result"
    }
   ],
   "source": [
    "m.xc # вектор чистой продукции отраслей xc"
   ],
   "metadata": {
    "collapsed": false,
    "pycharm": {
     "name": "#%%\n"
    }
   }
  },
  {
   "cell_type": "code",
   "execution_count": 104,
   "outputs": [],
   "source": [
    "import matplotlib.pyplot as plt"
   ],
   "metadata": {
    "collapsed": false,
    "pycharm": {
     "name": "#%%\n"
    }
   }
  },
  {
   "cell_type": "code",
   "execution_count": 105,
   "outputs": [
    {
     "name": "stdout",
     "output_type": "stream",
     "text": [
      "\n",
      "Матрица прямых затрат A = \n",
      "[[0.09022556 0.14364641]\n",
      " [0.16541353 0.15469613]],\n",
      "матрица A продуктивна,\n",
      "число Фробениуса λA = 0.27994155712113855,\n",
      "вектор Фробениуса pA = [-0.60364987 -0.79724955],\n",
      "новый вектор объемов производства (валового продукта) x2 = , [240.75068279 202.08522379]\n",
      "вектор чистой продукции отраслей xc = [179.20539546 141.79460454]\n",
      "\n"
     ]
    },
    {
     "data": {
      "text/plain": "<Figure size 864x432 with 1 Axes>",
      "image/png": "[encoded data removed]"
     },
     "metadata": {
      "needs_background": "light"
     },
     "output_type": "display_data"
    }
   ],
   "source": [
    "#  Задаем смещение равное половине ширины прямоугольника:\n",
    "x1 = np.arange(1, m.x.shape[0] + 1) - 0.2\n",
    "x2 = np.arange(1, m.x.shape[0] + 1) + 0.2\n",
    "y1 = m.x\n",
    "y2 = m.x2\n",
    "\n",
    "fig, ax = plt.subplots()\n",
    "\n",
    "ax.bar(x1, y1, width = 0.4)\n",
    "ax.bar(x2, y2, width = 0.4)\n",
    "\n",
    "plt.title(\"График изменения объема валового выпуска для каждой отрасли\", size=18)\n",
    "plt.legend(('x', 'x2'), fontsize=18, title_fontsize=18)\n",
    "fig.set_figwidth(12)    #  ширина Figure\n",
    "fig.set_figheight(6)    #  высота Figure\n",
    "\n",
    "print(m)\n",
    "plt.show()"
   ],
   "metadata": {
    "collapsed": false,
    "pycharm": {
     "name": "#%%\n"
    }
   }
  }
 ],
 "metadata": {
  "kernelspec": {
   "display_name": "Python 3",
   "language": "python",
   "name": "python3"
  },
  "language_info": {
   "codemirror_mode": {
    "name": "ipython",
    "version": 2
   },
   "file_extension": ".py",
   "mimetype": "text/x-python",
   "name": "python",
   "nbconvert_exporter": "python",
   "pygments_lexer": "ipython2",
   "version": "2.7.6"
  }
 },
 "nbformat": 4,
 "nbformat_minor": 0
}