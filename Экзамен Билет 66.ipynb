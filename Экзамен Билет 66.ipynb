{
 "cells": [
  {
   "cell_type": "code",
   "execution_count": 9,
   "outputs": [],
   "source": [
    "import numpy as np\n",
    "from pulp import LpProblem, LpMinimize, LpVariable, LpMaximize, LpStatus, LpInteger\n",
    "import sympy as sym\n",
    "import random"
   ],
   "metadata": {
    "collapsed": false,
    "pycharm": {
     "name": "#%%\n"
    }
   }
  },
  {
   "cell_type": "markdown",
   "source": [
    "## Задача 1"
   ],
   "metadata": {
    "collapsed": false,
    "pycharm": {
     "name": "#%% md\n"
    }
   }
  },
  {
   "cell_type": "markdown",
   "source": [
    "Функции для решений"
   ],
   "metadata": {
    "collapsed": false,
    "pycharm": {
     "name": "#%% md\n"
    }
   }
  },
  {
   "cell_type": "code",
   "execution_count": 12,
   "outputs": [],
   "source": [
    "def get_plan_by_min_tariff_method(M, A, B):\n",
    "\n",
    "\n",
    "    a_total = A.sum()\n",
    "    b_total = B.sum()\n",
    "\n",
    "    sorted_indexes = list(sorted(((i, j) for j in range(M.shape[1]) for i in range(M.shape[0])), key=lambda x: M[x[0], x[1]]))\n",
    "\n",
    "    X_star = np.zeros(M.shape)\n",
    "    A = A.copy()\n",
    "    B = B.copy()\n",
    "\n",
    "    for i, j in sorted_indexes:\n",
    "        if B[j] > 0 and A[i] > 0:\n",
    "            X_star[i, j] = min(A[i], B[j])\n",
    "            A[i] -= X_star[i, j]\n",
    "            B[j] -= X_star[i, j]\n",
    "\n",
    "            a_total -= X_star[i, j]\n",
    "            b_total -= X_star[i, j]\n",
    "        if a_total == 0 or b_total == 0:\n",
    "            break\n",
    "\n",
    "    return X_star"
   ],
   "metadata": {
    "collapsed": false,
    "pycharm": {
     "name": "#%%\n"
    }
   }
  },
  {
   "cell_type": "code",
   "execution_count": 13,
   "outputs": [],
   "source": [
    "def solve_transport_lp_method(C, A, B):\n",
    "    i_s = ord('a')\n",
    "    n, m = C.shape\n",
    "    # Переменные\n",
    "    X = np.array(list(LpVariable(f'{chr(i)}', lowBound=0, cat=LpInteger) for i in range(i_s, i_s + n * m)))\\\n",
    "        .reshape((n, m))\n",
    "\n",
    "    # Целевая функция\n",
    "    F = (C * X).sum()\n",
    "\n",
    "    le = np.vectorize(lambda x, y: x <= y)\n",
    "    eq = np.vectorize(lambda x, y: x == y)\n",
    "\n",
    "    # Ограничения запасов\n",
    "    C1 = le(X.sum(axis=1), A)\n",
    "    # Ограничения потребностей\n",
    "    C2 = eq(X.sum(axis=0), B)\n",
    "\n",
    "    model = LpProblem(\"Distribution_Problem\", LpMinimize)\n",
    "    model += F\n",
    "    for i in [C1, C2]:\n",
    "        for j in i:\n",
    "            model += j\n",
    "\n",
    "    model.solve()\n",
    "\n",
    "\n",
    "    X_star = np.vectorize(lambda x: x.value())(np.array(model.variables()))\n",
    "\n",
    "    print('Оптимальный план перевозки:')\n",
    "    print(X_star.reshape((n, m)))\n",
    "\n",
    "    print(f'Оптимальная стоимость перевозки: {model.objective.value()}')"
   ],
   "metadata": {
    "collapsed": false,
    "pycharm": {
     "name": "#%%\n"
    }
   }
  },
  {
   "cell_type": "code",
   "execution_count": 18,
   "outputs": [],
   "source": [
    "inf = 1000\n",
    "\n",
    "M = np.array([\n",
    "    [5, 7, 12, 3],\n",
    "    [7, 8, 9, 10],\n",
    "    [7, 11, 6, 6]\n",
    "])\n",
    "\n",
    "A = np.array([50, 90, 110])\n",
    "B = np.array([110, 20, 20, 100])"
   ],
   "metadata": {
    "collapsed": false,
    "pycharm": {
     "name": "#%%\n"
    }
   }
  },
  {
   "cell_type": "code",
   "execution_count": 19,
   "outputs": [
    {
     "data": {
      "text/plain": "array([[ 0.,  0.,  0., 50.],\n       [90.,  0.,  0.,  0.],\n       [20., 20., 20., 50.]])"
     },
     "execution_count": 19,
     "metadata": {},
     "output_type": "execute_result"
    }
   ],
   "source": [
    "X_star = get_plan_by_min_tariff_method(M, A, B)\n",
    "X_star"
   ],
   "metadata": {
    "collapsed": false,
    "pycharm": {
     "name": "#%%\n"
    }
   }
  },
  {
   "cell_type": "code",
   "execution_count": 21,
   "outputs": [
    {
     "data": {
      "text/plain": "1560.0"
     },
     "execution_count": 21,
     "metadata": {},
     "output_type": "execute_result"
    }
   ],
   "source": [
    "(X_star * M).sum()"
   ],
   "metadata": {
    "collapsed": false,
    "pycharm": {
     "name": "#%%\n"
    }
   }
  },
  {
   "cell_type": "markdown",
   "source": [
    "Проверим оптимальность транспортной задачи"
   ],
   "metadata": {
    "collapsed": false,
    "pycharm": {
     "name": "#%% md\n"
    }
   }
  },
  {
   "cell_type": "code",
   "execution_count": 20,
   "outputs": [
    {
     "name": "stdout",
     "output_type": "stream",
     "text": [
      "Оптимальный план перевозки:\n",
      "[[ 0.  0.  0. 50.]\n",
      " [70. 20.  0.  0.]\n",
      " [40.  0. 20. 50.]]\n",
      "Оптимальная стоимость перевозки: 1500.0\n"
     ]
    }
   ],
   "source": [
    "solve_transport_lp_method(M, A, B)"
   ],
   "metadata": {
    "collapsed": false,
    "pycharm": {
     "name": "#%%\n"
    }
   }
  },
  {
   "cell_type": "markdown",
   "source": [
    "**Вывод**: начальный опорный план неоптимальный. Следует продолжить итерации поиска."
   ],
   "metadata": {
    "collapsed": false,
    "pycharm": {
     "name": "#%% md\n"
    }
   }
  },
  {
   "cell_type": "markdown",
   "source": [
    "## Задача 2"
   ],
   "metadata": {
    "collapsed": false,
    "pycharm": {
     "name": "#%% md\n"
    }
   }
  },
  {
   "cell_type": "markdown",
   "source": [
    "Функция упрощение матрицы (исключение доминируемых/доминирующих стратегий)"
   ],
   "metadata": {
    "collapsed": false,
    "pycharm": {
     "name": "#%% md\n"
    }
   }
  },
  {
   "cell_type": "code",
   "execution_count": 3,
   "outputs": [],
   "source": [
    "ge = np.vectorize(lambda x, y: x >= y)\n",
    "le = np.vectorize(lambda x, y: x <= y)\n",
    "\n",
    "def reduce_game_matrix(A, f_u):\n",
    "    A_final = []\n",
    "\n",
    "    for i in range(A.shape[0]):\n",
    "        for j in range(A.shape[0]):\n",
    "            if i == j:\n",
    "                continue\n",
    "\n",
    "            if f_u(A[i], A[j]).all():\n",
    "                break\n",
    "        else:\n",
    "            A_final.append(A[i])\n",
    "\n",
    "    A_final = np.array(A_final)\n",
    "    return np.unique(A_final, axis=0)"
   ],
   "metadata": {
    "collapsed": false,
    "pycharm": {
     "name": "#%%\n"
    }
   }
  },
  {
   "cell_type": "code",
   "execution_count": 22,
   "outputs": [],
   "source": [
    "# Решение симплекс-методом\n",
    "def get_mixed_strategy(M, F_type, C_type_f):\n",
    "    model = LpProblem(\"Game\", F_type)\n",
    "    W = []\n",
    "\n",
    "    for i in range(M.shape[1]):\n",
    "        w = LpVariable(f'w{i + 1}', lowBound=0)\n",
    "        W.append(w)\n",
    "\n",
    "\n",
    "\n",
    "    W = np.array(W)\n",
    "\n",
    "    F = (W).sum()\n",
    "    C = C_type_f((M * W).sum(axis=1), 1)\n",
    "\n",
    "    model += F\n",
    "    for constraint in C:\n",
    "        model += constraint\n",
    "\n",
    "    model.solve()\n",
    "\n",
    "    opt = np.array(list(map(lambda x: x.value(), model.variables())))\n",
    "\n",
    "    v = 1 / opt.sum()\n",
    "    opt = opt / opt.sum()\n",
    "    return opt, v\n",
    "\n",
    "\n",
    "def solve_matrix_game(strategies_A, strategies_B, M):\n",
    "    worst_response_scenarios_A = M.min(axis=1)\n",
    "    worst_response_scenarios_B = M.max(axis=0)\n",
    "    opt_strategy_A = worst_response_scenarios_A.argmax() # alpha - нижняя цена игры (максимин) - Это максимальный выигрыш игрока A\n",
    "    opt_strategy_B = worst_response_scenarios_B.argmin() # beta - верхняя цена игры (минимакс) - Это максимальный проигрыш игрока В\n",
    "\n",
    "\n",
    "    opt, v = get_mixed_strategy(M.T, LpMinimize, ge)\n",
    "    opt_b, v_b = get_mixed_strategy(M, LpMaximize, le)\n",
    "\n",
    "    res = f'a) Оптимальная чистая стратегия для игрока А: №{opt_strategy_A + 1} - {strategies_A[opt_strategy_A]}\\n' \\\n",
    "      f'б) Цена игры для игрока А при выборе чистой оптимальной стратегии:  {worst_response_scenarios_A[opt_strategy_A]}\\n' \\\n",
    "      f'в) Оптимальная чистая стратегия для игрока Б: №{opt_strategy_B + 1} - {strategies_B[opt_strategy_B]}\\n' \\\n",
    "      f'г) Цена игры для игрока Б при выборе чистой оптимальной стратегии: {worst_response_scenarios_B[opt_strategy_B]}\\n' \\\n",
    "      f'д) Таблица смешанных стратегий для игрока А: {opt}\\n' \\\n",
    "      f'е) Цена игры для игрока А при выборе смешанной оптимальной стратегии: {v}\\n' \\\n",
    "      f'ж) Таблица смешанных стратегий для игрока Б: {opt_b}\\n' \\\n",
    "      f'з) Цена игры для игрока Б при выборе смешанной оптимальной стратегии: {v_b}'\n",
    "\n",
    "    print(res)\n",
    "\n",
    "    return {'A': (opt, v), 'B': (opt_b, v_b)}\n",
    "\n",
    "\n",
    "\n",
    "def get_func_by_points(p1, p2):\n",
    "    return lambda x: (x - p1[0]) * (p2[1] - p1[1]) / (p2[0] - p1[0]) + p1[1]\n",
    "\n",
    "\n",
    "def solve_matrix_game_graphic_method(A, inverse=False):\n",
    "\n",
    "    A_origin = A\n",
    "\n",
    "    if inverse:\n",
    "        x_name = 'B'\n",
    "        y_name = 'A'\n",
    "        ueq = ge\n",
    "        A = A.T\n",
    "        obj = 'B'\n",
    "        strategy_s = 'q'\n",
    "    else:\n",
    "        x_name = 'A'\n",
    "        y_name = 'B'\n",
    "        ueq = le\n",
    "        obj = 'A'\n",
    "        strategy_s = 'p'\n",
    "\n",
    "    offset = 0.05\n",
    "\n",
    "    x_sym = sym.Symbol('x')\n",
    "    y_sym = sym.Symbol('y')\n",
    "    plot_main = sym.plot(show=False, xlim=(0 - offset, 1 + offset), ylim=(0 - offset, A.max() + offset))\n",
    "\n",
    "\n",
    "    B = A.T\n",
    "    B_points = []\n",
    "    for i in range(B.shape[0]):\n",
    "        p = []\n",
    "        for j in range(B.shape[1]):\n",
    "            p.append([j, B[i, j]])\n",
    "        B_points.append(p)\n",
    "\n",
    "\n",
    "    def print_straight(p, v, v_name, color):\n",
    "        f = get_func_by_points(*v)\n",
    "        p.append(\n",
    "            sym.plot(f(x_sym),\n",
    "                     show=False,\n",
    "                     line_color=color)[0])\n",
    "        return f\n",
    "\n",
    "    b_funcs = []\n",
    "\n",
    "\n",
    "    for i in range(len(B_points)):\n",
    "        b_f = print_straight(plot_main, np.array(B_points[i]), f'{y_name}{i + 1}', 'red')\n",
    "        b_funcs.append(b_f)\n",
    "\n",
    "    plot_main.append(\n",
    "        sym.plot_implicit(\n",
    "            sym.And(*map(lambda f: ueq(y_sym, f(x_sym)), b_funcs)),\n",
    "            ('x',0, 1),\n",
    "            ('y',0, 20),\n",
    "            show=False,\n",
    "            line_color=\"#2BE68F\",\n",
    "        )[0])\n",
    "\n",
    "    plot_main.append(sym.plot(0, show=False, line_color='blue')[0])\n",
    "\n",
    "    plot_main.markers = []\n",
    "    plot_main.annotations = []\n",
    "    for i in range(len(B_points)):\n",
    "        for x, y in B_points[i]:\n",
    "            plot_main.markers.append({'args': [x, y, 'go'], 'color':'red'})\n",
    "\n",
    "            plot_main.annotations.append(\n",
    "                 {'xy': (x + offset, y), 'text': f'{y_name}{i+1}', 'ha': 'left', 'va': 'top', 'color': 'red'}\n",
    "            )\n",
    "\n",
    "    plot_main.annotations.extend([\n",
    "        {'xy': (0 + offset, 0 + offset), 'text': f'{x_name}1', 'ha': 'left', 'va': 'top', 'color': 'blue'},\n",
    "        {'xy': (1 - offset, 0 + offset), 'text': f'{x_name}2', 'ha': 'left', 'va': 'top', 'color': 'blue'}\n",
    "    ]\n",
    "    )\n",
    "\n",
    "    plot_main.markers.extend(\n",
    "        [{'args': [0, 0, 'go'], 'color':'blue'},\n",
    "         {'args': [1, 0, 'go'], 'color':'blue'}]\n",
    "    )\n",
    "\n",
    "\n",
    "    opt, v = solve_matrix_game(['A1', 'A2'], ['B1', 'B2', 'B3'], A_origin)[obj]\n",
    "    print(v)\n",
    "\n",
    "\n",
    "    plot_line = sym.plot_implicit(sym.And(sym.Eq(x_sym, opt[1])), ('x', 0, 10), ('y', 0, v), show=False, line_color='gold')[0]\n",
    "\n",
    "    plot_main.markers.append({'args': [opt[1], v, 'go'], 'color':'gold'})\n",
    "    plot_main.annotations.append({'xy': (opt[1] + offset, v + offset), 'text': f'M*{opt[1], v}', 'ha': 'left', 'va': 'top', 'color': 'gold'})\n",
    "\n",
    "    plot_main.markers.append({'args': [opt[1], 0, 'go'], 'color':'gold'})\n",
    "    plot_main.annotations.append({'xy': (opt[1] + offset, 0 + offset), 'text': f'S_A* = {opt[1]} = {strategy_s}2', 'ha': 'left', 'va': 'top', 'color': 'gold'})\n",
    "\n",
    "    plot_main.append(plot_line)\n",
    "    plot_main.show()"
   ],
   "metadata": {
    "collapsed": false,
    "pycharm": {
     "name": "#%%\n"
    }
   }
  },
  {
   "cell_type": "code",
   "execution_count": 28,
   "outputs": [],
   "source": [
    "A = np.array([\n",
    "    [1, 6, 1, 4],\n",
    "    [5, 8, 4, 5],\n",
    "    [3, 7, 8, 2],\n",
    "    [5, 6, 2, 3]\n",
    "])"
   ],
   "metadata": {
    "collapsed": false,
    "pycharm": {
     "name": "#%%\n"
    }
   }
  },
  {
   "cell_type": "code",
   "execution_count": 29,
   "outputs": [],
   "source": [
    "A_reduced = reduce_game_matrix(reduce_game_matrix(A, le).T, ge).T"
   ],
   "metadata": {
    "collapsed": false,
    "pycharm": {
     "name": "#%%\n"
    }
   }
  },
  {
   "cell_type": "code",
   "execution_count": 30,
   "outputs": [
    {
     "data": {
      "text/plain": "array([[2, 8],\n       [5, 4]])"
     },
     "execution_count": 30,
     "metadata": {},
     "output_type": "execute_result"
    }
   ],
   "source": [
    "A_reduced"
   ],
   "metadata": {
    "collapsed": false,
    "pycharm": {
     "name": "#%%\n"
    }
   }
  },
  {
   "cell_type": "code",
   "execution_count": 31,
   "outputs": [
    {
     "name": "stdout",
     "output_type": "stream",
     "text": [
      "a) Оптимальная чистая стратегия для игрока А: №2 - A2\n",
      "б) Цена игры для игрока А при выборе чистой оптимальной стратегии:  4\n",
      "в) Оптимальная чистая стратегия для игрока Б: №1 - B1\n",
      "г) Цена игры для игрока Б при выборе чистой оптимальной стратегии: 5\n",
      "д) Таблица смешанных стратегий для игрока А: [0.14285714 0.85714286]\n",
      "е) Цена игры для игрока А при выборе смешанной оптимальной стратегии: 4.571428571428571\n",
      "ж) Таблица смешанных стратегий для игрока Б: [0.57142857 0.42857143]\n",
      "з) Цена игры для игрока Б при выборе смешанной оптимальной стратегии: 4.571428571428571\n",
      "4.571428571428571\n"
     ]
    },
    {
     "name": "stderr",
     "output_type": "stream",
     "text": [
      "C:\\Users\\sergi\\PycharmProjects\\PythonEnv\\venv\\lib\\site-packages\\sympy\\plotting\\plot.py:1500: UserWarning: color is redundantly defined by the 'color' keyword argument and the fmt string \"go\" (-> color='g'). The keyword argument will take precedence.\n",
      "  ax.plot(*args, **m)\n"
     ]
    },
    {
     "data": {
      "text/plain": "<Figure size 432x288 with 1 Axes>",
      "image/png": "[encoded data removed]"
     },
     "metadata": {
      "needs_background": "light"
     },
     "output_type": "display_data"
    }
   ],
   "source": [
    "solve_matrix_game_graphic_method(A_reduced)"
   ],
   "metadata": {
    "collapsed": false,
    "pycharm": {
     "name": "#%%\n"
    }
   }
  },
  {
   "cell_type": "markdown",
   "source": [
    "Проверка на исходном"
   ],
   "metadata": {
    "collapsed": false,
    "pycharm": {
     "name": "#%% md\n"
    }
   }
  },
  {
   "cell_type": "code",
   "execution_count": 32,
   "outputs": [
    {
     "name": "stdout",
     "output_type": "stream",
     "text": [
      "a) Оптимальная чистая стратегия для игрока А: №2 - A2\n",
      "б) Цена игры для игрока А при выборе чистой оптимальной стратегии:  4\n",
      "в) Оптимальная чистая стратегия для игрока Б: №1 - B1\n",
      "г) Цена игры для игрока Б при выборе чистой оптимальной стратегии: 5\n",
      "д) Таблица смешанных стратегий для игрока А: [0.         0.85714286 0.14285714 0.        ]\n",
      "е) Цена игры для игрока А при выборе смешанной оптимальной стратегии: 4.571428571428571\n",
      "ж) Таблица смешанных стратегий для игрока Б: [0.         0.         0.42857143 0.57142857]\n",
      "з) Цена игры для игрока Б при выборе смешанной оптимальной стратегии: 4.571428571428571\n"
     ]
    },
    {
     "data": {
      "text/plain": "{'A': (array([0.        , 0.85714286, 0.14285714, 0.        ]),\n  4.571428571428571),\n 'B': (array([0.        , 0.        , 0.42857143, 0.57142857]),\n  4.571428571428571)}"
     },
     "execution_count": 32,
     "metadata": {},
     "output_type": "execute_result"
    }
   ],
   "source": [
    "solve_matrix_game(['A1', 'A2', 'A3', 'A4'], ['B1', 'B2', 'B3', 'B4'], A)"
   ],
   "metadata": {
    "collapsed": false,
    "pycharm": {
     "name": "#%%\n"
    }
   }
  },
  {
   "cell_type": "markdown",
   "source": [
    "## Задача 3"
   ],
   "metadata": {
    "collapsed": false,
    "pycharm": {
     "name": "#%% md\n"
    }
   }
  },
  {
   "cell_type": "code",
   "execution_count": 34,
   "outputs": [],
   "source": [
    "def solve_dynamic_continuous_problem(s_e, f1, f2, fi1, fi2, n):\n",
    "    x = LpVariable('x', lowBound=0)\n",
    "    y = LpVariable('y', lowBound=0)\n",
    "\n",
    "    # F = f1(x) + f2(y) + f1(fi1(x)) + f2(fi2(y)) + f1(fi1(fi1(x))) + f2(fi2(fi2(y))) # можно написать рекурсией\n",
    "\n",
    "    def F(acc, w1, w2, n):\n",
    "        if n == 0:\n",
    "            return acc\n",
    "        return F (acc + f1(w1) + f2(w2), fi1(w1), fi2(w2), n-1)\n",
    "\n",
    "\n",
    "    print(F(0, x, y, n))\n",
    "    model = LpProblem(\"Game\", LpMaximize)\n",
    "    model += F(0, x, y, n)\n",
    "\n",
    "    model += x + y == s_e\n",
    "\n",
    "    model.solve()\n",
    "\n",
    "    X = list(map(lambda x: x.value(), model.variables()))\n",
    "    F_star = model.objective.value()\n",
    "\n",
    "    return X, F_star"
   ],
   "metadata": {
    "collapsed": false,
    "pycharm": {
     "name": "#%%\n"
    }
   }
  },
  {
   "cell_type": "code",
   "execution_count": 35,
   "outputs": [],
   "source": [
    "S0 = 3000\n",
    "f1 = lambda x: 0.7*x # прибыль в конце года 1 предприятия\n",
    "fi1 = lambda x: 0.2*x  # возврат средств в конце года 1 предприятия\n",
    "\n",
    "f2 = lambda y: 0.6*y # прибыль в конце года 2 предприятия\n",
    "fi2 = lambda y: 0.4*y # возврат средств в конце года 2 предприятия\n",
    "n = 3"
   ],
   "metadata": {
    "collapsed": false,
    "pycharm": {
     "name": "#%%\n"
    }
   }
  },
  {
   "cell_type": "code",
   "execution_count": 36,
   "outputs": [
    {
     "name": "stdout",
     "output_type": "stream",
     "text": [
      "0.868*x + 0.9359999999999999*y\n"
     ]
    },
    {
     "data": {
      "text/plain": "([0.0, 3000.0], 2808.0)"
     },
     "execution_count": 36,
     "metadata": {},
     "output_type": "execute_result"
    }
   ],
   "source": [
    "solve_dynamic_continuous_problem(S0, f1, f2, fi1, fi2, n)"
   ],
   "metadata": {
    "collapsed": false,
    "pycharm": {
     "name": "#%%\n"
    }
   }
  },
  {
   "cell_type": "code",
   "execution_count": 37,
   "outputs": [],
   "source": [
    "class LP:\n",
    "    def __init__(self, D, F, a=1, b=1, c=1):\n",
    "        self.a = a\n",
    "        self.b = b\n",
    "        self.c = c\n",
    "        self.s_F = F\n",
    "\n",
    "        if not isinstance(F, sym.Add):\n",
    "            self.F = sym.parse_expr(F).subs(dict(a=a, b=b, c=c))\n",
    "        else:\n",
    "            self.F = F\n",
    "\n",
    "\n",
    "        if not isinstance(D, np.ndarray):\n",
    "            self.D = list(map(lambda x: sym.parse_expr(x).subs(dict(a=a, b=b, c=c)), D))\n",
    "        else:\n",
    "            self.D = D\n",
    "\n",
    "        self.colors_f = lambda n: list(map(lambda i: \"#\" + \"%06x\" % random.randint(0, 0xFFFFFF),range(n)))\n",
    "        self.colors = self.colors_f(len(self.D))\n",
    "\n",
    "\n",
    "        self.x_coord = (-20, 20)\n",
    "        self.y_coord = (-20, 20)\n",
    "\n",
    "\n",
    "        self.model = self._create_model()\n",
    "\n",
    "\n",
    "    def _create_model(self):\n",
    "        model = LpProblem(name=\"resource-allocation\", sense = LpMaximize)\n",
    "        x1 = LpVariable(name=\"x_1\")\n",
    "        x2 = LpVariable(name=\"x_2\")\n",
    "        model += sym.lambdify(['x_1', 'x_2'], self.F)(x1, x2)\n",
    "\n",
    "        for d in self.D:\n",
    "            f = lambda x_1, x_2: eval(str(d))\n",
    "            model += f(x1, x2)\n",
    "\n",
    "        model.solve()\n",
    "\n",
    "        return model\n",
    "\n",
    "\n",
    "\n",
    "    def __repr__(self):\n",
    "        status = self.model.status\n",
    "        x1_total = self.model.variables()[0].value()\n",
    "        x2_total = self.model.variables()[1].value()\n",
    "        F = self.model.objective.value()\n",
    "\n",
    "        self.show_graphic()\n",
    "\n",
    "        return f'Статус решения: {status}, {LpStatus[status]}\\n' \\\n",
    "               f'Оптимальное значение целевой функции: {int(F)}\\n' \\\n",
    "               f'Оптимальный план: (x1 = {int(x1_total)}, x2 = {int(x2_total)})'\n",
    "\n",
    "\n",
    "\n",
    "\n",
    "    def show_graphic(self):\n",
    "        d_names = list(map(lambda i: f\"C{i + 1}\", range(len(self.D))))\n",
    "\n",
    "        x1_total = self.model.variables()[0].value()\n",
    "        x2_total = self.model.variables()[1].value()\n",
    "\n",
    "        p = sym.plot_implicit(sym.And(*self.D),\n",
    "                              ('x_1', *self.x_coord),\n",
    "                              ('x_2', *self.y_coord),\n",
    "                              line_color=\"#2BE68F\",\n",
    "                              show=False,\n",
    "                              markers=[{'args': [x1_total, x2_total, 'go'], 'color':'#0AFFF4'}]\n",
    "                              )\n",
    "\n",
    "        for i in range(len(self.colors)):\n",
    "            p.append(sym.plot_implicit(\n",
    "                sym.Eq(*self.D[i].args),\n",
    "                ('x_1', *self.x_coord),\n",
    "                ('x_2', *self.y_coord),\n",
    "                line_color=self.colors[i],\n",
    "                adaptive=False,\n",
    "                show=False)[0])\n",
    "\n",
    "\n",
    "\n",
    "\n",
    "        print(sym.Eq(self.F, self.model.objective.value()))\n",
    "\n",
    "        p.append(sym.plot_implicit(sym.Eq(self.F, self.model.objective.value()),\n",
    "                                   ('x_1', *self.x_coord),\n",
    "                                   ('x_2', *self.y_coord),\n",
    "                                   line_color='black', adaptive=False, show=False)[0])\n",
    "\n",
    "        p.append(sym.plot_implicit(sym.Eq(self.F, 2),\n",
    "                                   ('x_1', *self.x_coord),\n",
    "                                   ('x_2', *self.y_coord),\n",
    "                                   line_color='#808080', adaptive=False, show=False)[0])\n",
    "\n",
    "\n",
    "        p.annotations = []\n",
    "        o = 20\n",
    "\n",
    "\n",
    "\n",
    "        for i in range(len(d_names)):\n",
    "            p.annotations.append(\n",
    "                {'xy': (15, o), 'text': d_names[i], 'ha': 'left', 'va': 'top', 'color': self.colors[i]}\n",
    "            )\n",
    "            o -= 2\n",
    "\n",
    "        p.annotations.append(\n",
    "            {'xy': (15, o), 'text': f'F={self.model.objective.value()}', 'ha': 'left', 'va': 'top', 'color': 'black'}\n",
    "        )\n",
    "\n",
    "        p.annotations.append(\n",
    "            {'xy': (15, o - 2), 'text': 'F=2', 'ha': 'left', 'va': 'top', 'color': '#808080'}\n",
    "        )\n",
    "\n",
    "        p.annotations.append(\n",
    "            {'xy': (x1_total + 2, x2_total), 'text': f'M*({x1_total}, {x2_total})', 'ha': 'left', 'va': 'top', 'color': '#0AFFF4'}\n",
    "        )\n",
    "\n",
    "\n",
    "        f_opt = 'x_1 +' + str(-1/self.a) + '*x_2'\n",
    "        opt_l = sym.plot_implicit(sym.Eq(sym.parse_expr(f_opt), x1_total + -1/self.a * x2_total),\n",
    "                           ('x_1', *self.x_coord),\n",
    "                           ('x_2', *self.y_coord),\n",
    "                           line_color='#0AFFF4', adaptive=False, show=False)\n",
    "\n",
    "        p.annotations.append(\n",
    "                {'xy': (15, o - 4), 'text': 'solution arrow', 'ha': 'left', 'va': 'top', 'color': '#0AFFF4'})\n",
    "\n",
    "        p.append(opt_l[0])\n",
    "\n",
    "        p.show()"
   ],
   "metadata": {
    "collapsed": false,
    "pycharm": {
     "name": "#%%\n"
    }
   }
  },
  {
   "cell_type": "code",
   "execution_count": 86,
   "outputs": [
    {
     "data": {
      "text/plain": "dynamic:\nMAXIMIZE\nNone\nSUBJECT TO\n_C1: x1 + y1 = 3000\n\n_C2: 0.2 x1 - x2 + 0.4 y1 - y2 = 0\n\n_C3: 0.2 x2 - x3 + 0.4 y2 - y3 = 0\n\nVARIABLES\nx1 Continuous\nx2 Continuous\nx3 Continuous\ny1 Continuous\ny2 Continuous\ny3 Continuous"
     },
     "execution_count": 86,
     "metadata": {},
     "output_type": "execute_result"
    }
   ],
   "source": [
    "model = LpProblem('dynamic', sense=LpMaximize)\n",
    "\n",
    "x1 = LpVariable('x1', lowBound=0)\n",
    "x2 = LpVariable('x2', lowBound=0)\n",
    "x3 = LpVariable('x3', lowBound=0)\n",
    "\n",
    "y1 = LpVariable('y1', lowBound=0)\n",
    "y2 = LpVariable('y2', lowBound=0)\n",
    "y3 = LpVariable('y3', lowBound=0)\n",
    "\n",
    "\n",
    "\n",
    "f1 = 0.7 * x1 + 0.6 * y1\n",
    "f2 = 0.7 * x2 + 0.6 * y2\n",
    "f3 = 0.7 * x3 + 0.6 * y3\n",
    "\n",
    "F = f1 + f2 + f3\n",
    "\n",
    "model += x1 + y1 == 3000\n",
    "model += 0.2 * x1 + 0.4 * y1 == x2 + y2\n",
    "model += 0.2 * x2 + 0.4 * y2 == x3 + y3\n",
    "\n",
    "model"
   ],
   "metadata": {
    "collapsed": false,
    "pycharm": {
     "name": "#%%\n"
    }
   }
  },
  {
   "cell_type": "code",
   "execution_count": 87,
   "outputs": [
    {
     "data": {
      "text/plain": "1"
     },
     "execution_count": 87,
     "metadata": {},
     "output_type": "execute_result"
    }
   ],
   "source": [
    "model.solve()"
   ],
   "metadata": {
    "collapsed": false,
    "pycharm": {
     "name": "#%%\n"
    }
   }
  },
  {
   "cell_type": "code",
   "execution_count": 89,
   "outputs": [
    {
     "data": {
      "text/plain": "[__dummy, x1, x2, x3, y1, y2, y3]"
     },
     "execution_count": 89,
     "metadata": {},
     "output_type": "execute_result"
    }
   ],
   "source": [
    "model.variables()"
   ],
   "metadata": {
    "collapsed": false,
    "pycharm": {
     "name": "#%%\n"
    }
   }
  },
  {
   "cell_type": "code",
   "execution_count": 88,
   "outputs": [
    {
     "data": {
      "text/plain": "[None, 3000.0, 600.0, 120.0, 0.0, 0.0, 0.0]"
     },
     "execution_count": 88,
     "metadata": {},
     "output_type": "execute_result"
    }
   ],
   "source": [
    "list(map(lambda x: x.value(), model.variables()))"
   ],
   "metadata": {
    "collapsed": false,
    "pycharm": {
     "name": "#%%\n"
    }
   }
  },
  {
   "cell_type": "code",
   "execution_count": 91,
   "outputs": [
    {
     "data": {
      "text/plain": "2604.0"
     },
     "execution_count": 91,
     "metadata": {},
     "output_type": "execute_result"
    }
   ],
   "source": [
    "0.7 * 3000 + 0.7 * 600 + 0.7 * 120"
   ],
   "metadata": {
    "collapsed": false,
    "pycharm": {
     "name": "#%%\n"
    }
   }
  },
  {
   "cell_type": "code",
   "execution_count": 95,
   "outputs": [],
   "source": [
    "S0 = 3000\n",
    "f1 = lambda x: 0.7*x # прибыль в конце года 1 предприятия\n",
    "fi1 = lambda x: 0.2*x  # возврат средств в конце года 1 предприятия\n",
    "\n",
    "f2 = lambda y: 0.6*y # прибыль в конце года 2 предприятия\n",
    "fi2 = lambda y: 0.4*y # возврат средств в конце года 2 предприятия\n",
    "n = 3"
   ],
   "metadata": {
    "collapsed": false,
    "pycharm": {
     "name": "#%%\n"
    }
   }
  },
  {
   "cell_type": "code",
   "execution_count": 96,
   "outputs": [
    {
     "name": "stdout",
     "output_type": "stream",
     "text": [
      "0.868*x + 0.9359999999999999*y\n"
     ]
    },
    {
     "data": {
      "text/plain": "([0.0, 3000.0], 2808.0)"
     },
     "execution_count": 96,
     "metadata": {},
     "output_type": "execute_result"
    }
   ],
   "source": [
    "solve_dynamic_continuous_problem(S0, f1, f2, fi1, fi2, n)"
   ],
   "metadata": {
    "collapsed": false,
    "pycharm": {
     "name": "#%%\n"
    }
   }
  }
 ],
 "metadata": {
  "kernelspec": {
   "display_name": "Python 3",
   "language": "python",
   "name": "python3"
  },
  "language_info": {
   "codemirror_mode": {
    "name": "ipython",
    "version": 2
   },
   "file_extension": ".py",
   "mimetype": "text/x-python",
   "name": "python",
   "nbconvert_exporter": "python",
   "pygments_lexer": "ipython2",
   "version": "2.7.6"
  }
 },
 "nbformat": 4,
 "nbformat_minor": 0
}