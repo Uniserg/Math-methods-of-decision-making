{
 "cells": [
  {
   "cell_type": "code",
   "execution_count": 1,
   "outputs": [],
   "source": [
    "from pulp import LpProblem, LpMaximize, LpVariable, LpMinimize"
   ],
   "metadata": {
    "collapsed": false,
    "pycharm": {
     "name": "#%%\n"
    }
   }
  },
  {
   "cell_type": "markdown",
   "source": [
    "### Прямая задача ЛП - максимизация прибыли"
   ],
   "metadata": {
    "collapsed": false,
    "pycharm": {
     "name": "#%% md\n"
    }
   }
  },
  {
   "cell_type": "code",
   "execution_count": 2,
   "outputs": [],
   "source": [
    "# Коэффициенты\n",
    "a = 4\n",
    "b = 4\n",
    "c = 32\n",
    "\n",
    "# Цены\n",
    "p1 = 6 * b + 12\n",
    "p2 = 5 * b + 22\n",
    "p3 = c\n",
    "\n",
    "\n",
    "# Матрица расходов\n",
    "A = [\n",
    "   # A  B  C\n",
    "    [1, 3, a], # I\n",
    "    [6, 5, 2] # II\n",
    "]\n",
    "\n",
    "\n",
    "# Запасы\n",
    "lim = [3000, 3320]"
   ],
   "metadata": {
    "collapsed": false,
    "pycharm": {
     "name": "#%%\n"
    }
   }
  },
  {
   "cell_type": "code",
   "execution_count": 3,
   "outputs": [],
   "source": [
    "model = LpProblem(name=\"resource-allocation\", sense = LpMaximize)\n",
    "x1 = LpVariable(name=\"x1\", lowBound=0)\n",
    "x2 = LpVariable(name=\"x2\", lowBound=0)\n",
    "x3 = LpVariable(name=\"x3\", lowBound=0)\n",
    "\n",
    "#Целевая функция\n",
    "model += p1 * x1 + p2 * x2 + p3 * x3\n",
    "\n",
    "# Ограничения\n",
    "model += A[0][0] * x1 + A[0][1] * x2 + A[0][2] * x3 <= lim[0]\n",
    "model += A[1][0] * x1 + A[1][1] * x2 + A[1][2] * x3 <= lim[1]"
   ],
   "metadata": {
    "collapsed": false,
    "pycharm": {
     "name": "#%%\n"
    }
   }
  },
  {
   "cell_type": "code",
   "execution_count": 4,
   "outputs": [
    {
     "data": {
      "text/plain": "resource-allocation:\nMAXIMIZE\n36*x1 + 42*x2 + 32*x3 + 0\nSUBJECT TO\n_C1: x1 + 3 x2 + 4 x3 <= 3000\n\n_C2: 6 x1 + 5 x2 + 2 x3 <= 3320\n\nVARIABLES\nx1 Continuous\nx2 Continuous\nx3 Continuous"
     },
     "execution_count": 4,
     "metadata": {},
     "output_type": "execute_result"
    }
   ],
   "source": [
    "model"
   ],
   "metadata": {
    "collapsed": false,
    "pycharm": {
     "name": "#%%\n"
    }
   }
  },
  {
   "cell_type": "code",
   "execution_count": 5,
   "outputs": [
    {
     "data": {
      "text/plain": "1"
     },
     "execution_count": 5,
     "metadata": {},
     "output_type": "execute_result"
    }
   ],
   "source": [
    "model.solve()"
   ],
   "metadata": {
    "collapsed": false,
    "pycharm": {
     "name": "#%%\n"
    }
   }
  },
  {
   "cell_type": "code",
   "execution_count": 6,
   "outputs": [
    {
     "name": "stdout",
     "output_type": "stream",
     "text": [
      "Реальный расход ресурсов = (3000.0, 3320.0)\n"
     ]
    }
   ],
   "source": [
    "r1 = sum(map(lambda x, y: x.value() * y, model.variables(), A[0]))\n",
    "r2 = sum(map(lambda x, y: x.value() * y, model.variables(), A[1]))\n",
    "\n",
    "print('Реальный расход ресурсов =', (r1, r2))"
   ],
   "metadata": {
    "collapsed": false,
    "pycharm": {
     "name": "#%%\n"
    }
   }
  },
  {
   "cell_type": "code",
   "execution_count": 7,
   "outputs": [
    {
     "name": "stdout",
     "output_type": "stream",
     "text": [
      "Дефицит ресурсов =  (0.0, 0.0)\n"
     ]
    }
   ],
   "source": [
    "d1 = abs(r1 - lim[0])\n",
    "d2 = abs(r2 - lim[1])\n",
    "\n",
    "print(f\"Дефицит ресурсов = \", (d1, d2))"
   ],
   "metadata": {
    "collapsed": false,
    "pycharm": {
     "name": "#%%\n"
    }
   }
  },
  {
   "cell_type": "code",
   "execution_count": 8,
   "outputs": [
    {
     "data": {
      "text/plain": "'X* = (0;520;360); F_max = 33360'"
     },
     "execution_count": 8,
     "metadata": {},
     "output_type": "execute_result"
    }
   ],
   "source": [
    "X = list(map(lambda x: int(x.value()), model.variables()))\n",
    "res = f'X* = ({\";\".join(map(str, X))}); F_max = {int(model.objective.value())}'\n",
    "res"
   ],
   "metadata": {
    "collapsed": false,
    "pycharm": {
     "name": "#%%\n"
    }
   }
  },
  {
   "cell_type": "markdown",
   "source": [
    "### Двойственная задача ЛП - минимизация стоимости ресурсов"
   ],
   "metadata": {
    "collapsed": false,
    "pycharm": {
     "name": "#%% md\n"
    }
   }
  },
  {
   "cell_type": "code",
   "execution_count": 14,
   "outputs": [],
   "source": [
    "d_model = LpProblem(name=\"resource-allocation\", sense=LpMinimize)\n",
    "\n",
    "# Ограничения прямой задачи делаем переменными\n",
    "y1 = LpVariable(name=\"y1\",  lowBound=0)\n",
    "y2 = LpVariable(name=\"y2\",  lowBound=0)"
   ],
   "metadata": {
    "collapsed": false,
    "pycharm": {
     "name": "#%%\n"
    }
   }
  },
  {
   "cell_type": "code",
   "execution_count": 15,
   "outputs": [],
   "source": [
    "# Целевая функция\n",
    "# Минимизировать целевую функцию двойственных переменных\n",
    "d_model += lim[0] * y1 + lim[1] * y2\n",
    "\n",
    "# Ограничения (являются переменными в прямой)\n",
    "d_model += A[0][0] * y1 + A[1][0] * y2 >= p1\n",
    "d_model += A[0][1] * y1 + A[1][1] * y2 >= p2\n",
    "d_model += A[0][2] * y1 + A[1][2] * y2 >= p3"
   ],
   "metadata": {
    "collapsed": false,
    "pycharm": {
     "name": "#%%\n"
    }
   }
  },
  {
   "cell_type": "code",
   "execution_count": 16,
   "outputs": [
    {
     "data": {
      "text/plain": "resource-allocation:\nMINIMIZE\n3000*y1 + 3320*y2 + 0\nSUBJECT TO\n_C1: y1 + 6 y2 >= 36\n\n_C2: 3 y1 + 5 y2 >= 42\n\n_C3: 4 y1 + 2 y2 >= 32\n\nVARIABLES\ny1 Continuous\ny2 Continuous"
     },
     "execution_count": 16,
     "metadata": {},
     "output_type": "execute_result"
    }
   ],
   "source": [
    "d_model"
   ],
   "metadata": {
    "collapsed": false,
    "pycharm": {
     "name": "#%%\n"
    }
   }
  },
  {
   "cell_type": "code",
   "execution_count": 12,
   "outputs": [
    {
     "data": {
      "text/plain": "1"
     },
     "execution_count": 12,
     "metadata": {},
     "output_type": "execute_result"
    }
   ],
   "source": [
    "d_model.solve()"
   ],
   "metadata": {
    "collapsed": false,
    "pycharm": {
     "name": "#%%\n"
    }
   }
  },
  {
   "cell_type": "code",
   "execution_count": 13,
   "outputs": [
    {
     "data": {
      "text/plain": "'Y* = (5.4285714;5.1428571); F_min = 33359.999771999996'"
     },
     "execution_count": 13,
     "metadata": {},
     "output_type": "execute_result"
    }
   ],
   "source": [
    "Y = list(map(lambda x: x.value(), d_model.variables()))\n",
    "res = f'Y* = ({\";\".join(map(str, Y))}); F_min = {d_model.objective.value()}'\n",
    "res"
   ],
   "metadata": {
    "collapsed": false,
    "pycharm": {
     "name": "#%%\n"
    }
   }
  },
  {
   "cell_type": "markdown",
   "source": [
    "### Вывод\n",
    "Мы нашли оптимальные цены для ресурсов, имевшие ограничения на запасы, при этом прибыль осталась такой же, как и в прямой задаче."
   ],
   "metadata": {
    "collapsed": false,
    "pycharm": {
     "name": "#%% md\n"
    }
   }
  }
 ],
 "metadata": {
  "kernelspec": {
   "display_name": "Python 3",
   "language": "python",
   "name": "python3"
  },
  "language_info": {
   "codemirror_mode": {
    "name": "ipython",
    "version": 2
   },
   "file_extension": ".py",
   "mimetype": "text/x-python",
   "name": "python",
   "nbconvert_exporter": "python",
   "pygments_lexer": "ipython2",
   "version": "2.7.6"
  }
 },
 "nbformat": 4,
 "nbformat_minor": 0
}